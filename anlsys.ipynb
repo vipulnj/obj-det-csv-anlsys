{
 "metadata": {
  "language_info": {
   "codemirror_mode": {
    "name": "ipython",
    "version": 3
   },
   "file_extension": ".py",
   "mimetype": "text/x-python",
   "name": "python",
   "nbconvert_exporter": "python",
   "pygments_lexer": "ipython3",
   "version": "3.7.7"
  },
  "orig_nbformat": 4,
  "kernelspec": {
   "name": "python3",
   "display_name": "Python 3.7.7 64-bit ('base': conda)"
  },
  "interpreter": {
   "hash": "8cb48ee34b52abbc0c4c6c9a8d1e18bbd374f2d1391cafbd22bf8a5424951de7"
  }
 },
 "nbformat": 4,
 "nbformat_minor": 2,
 "cells": [
  {
   "cell_type": "code",
   "execution_count": 1,
   "metadata": {},
   "outputs": [],
   "source": [
    "import numpy as np\n",
    "import pandas as pd\n",
    "import matplotlib.pyplot as plt\n",
    "import seaborn as sb\n",
    "\n",
    "from sklearn.metrics import confusion_matrix\n",
    "from operator import itemgetter"
   ]
  },
  {
   "cell_type": "code",
   "execution_count": 2,
   "metadata": {},
   "outputs": [],
   "source": [
    "df = pd.read_csv('interviewchallengesampledata.csv')"
   ]
  },
  {
   "cell_type": "code",
   "execution_count": 3,
   "metadata": {},
   "outputs": [
    {
     "output_type": "execute_result",
     "data": {
      "text/plain": [
       "Index(['Record', 'Image Frame ID', 'Label', 'Score', 'x1', 'y1', 'x2', 'y2',\n",
       "       'GT Label', 'Threshold', 'GTx1', 'GTx2', 'GTy1', 'GTy2'],\n",
       "      dtype='object')"
      ]
     },
     "metadata": {},
     "execution_count": 3
    }
   ],
   "source": [
    "df.columns"
   ]
  },
  {
   "cell_type": "code",
   "execution_count": 4,
   "metadata": {},
   "outputs": [
    {
     "output_type": "execute_result",
     "data": {
      "text/plain": [
       "(3264, 14)"
      ]
     },
     "metadata": {},
     "execution_count": 4
    }
   ],
   "source": [
    "df.shape"
   ]
  },
  {
   "cell_type": "code",
   "execution_count": 5,
   "metadata": {},
   "outputs": [
    {
     "output_type": "execute_result",
     "data": {
      "text/plain": [
       "   Record  Image Frame ID  Label     Score          x1          y1  \\\n",
       "0       0               1  alien  0.987645  920.222046  243.421906   \n",
       "1       1               2  alien  0.983937  919.544434  255.061249   \n",
       "2       2               3  alien  0.984631  919.329346  255.698364   \n",
       "3       3               4  alien  0.983412  920.016846  256.790466   \n",
       "4       4               5  alien  0.980213  924.729797  227.831360   \n",
       "\n",
       "           x2          y2 GT Label  Threshold   GTx1   GTx2        GTy1   GTy2  \n",
       "0  962.713257  308.385284    tiger        0.5  926.0  958.0  243.421906  301.0  \n",
       "1  965.888062  305.472931    tiger        0.5  929.0  958.0  255.061249  302.0  \n",
       "2  966.233765  305.948425    tiger        0.5  927.0  958.0  255.698364  302.0  \n",
       "3  966.449585  306.455994    tiger        0.5  928.0  959.0  256.790466  301.0  \n",
       "4  965.988953  302.414795    tiger        0.5  928.0  958.0  240.000000  302.0  "
      ],
      "text/html": "<div>\n<style scoped>\n    .dataframe tbody tr th:only-of-type {\n        vertical-align: middle;\n    }\n\n    .dataframe tbody tr th {\n        vertical-align: top;\n    }\n\n    .dataframe thead th {\n        text-align: right;\n    }\n</style>\n<table border=\"1\" class=\"dataframe\">\n  <thead>\n    <tr style=\"text-align: right;\">\n      <th></th>\n      <th>Record</th>\n      <th>Image Frame ID</th>\n      <th>Label</th>\n      <th>Score</th>\n      <th>x1</th>\n      <th>y1</th>\n      <th>x2</th>\n      <th>y2</th>\n      <th>GT Label</th>\n      <th>Threshold</th>\n      <th>GTx1</th>\n      <th>GTx2</th>\n      <th>GTy1</th>\n      <th>GTy2</th>\n    </tr>\n  </thead>\n  <tbody>\n    <tr>\n      <th>0</th>\n      <td>0</td>\n      <td>1</td>\n      <td>alien</td>\n      <td>0.987645</td>\n      <td>920.222046</td>\n      <td>243.421906</td>\n      <td>962.713257</td>\n      <td>308.385284</td>\n      <td>tiger</td>\n      <td>0.5</td>\n      <td>926.0</td>\n      <td>958.0</td>\n      <td>243.421906</td>\n      <td>301.0</td>\n    </tr>\n    <tr>\n      <th>1</th>\n      <td>1</td>\n      <td>2</td>\n      <td>alien</td>\n      <td>0.983937</td>\n      <td>919.544434</td>\n      <td>255.061249</td>\n      <td>965.888062</td>\n      <td>305.472931</td>\n      <td>tiger</td>\n      <td>0.5</td>\n      <td>929.0</td>\n      <td>958.0</td>\n      <td>255.061249</td>\n      <td>302.0</td>\n    </tr>\n    <tr>\n      <th>2</th>\n      <td>2</td>\n      <td>3</td>\n      <td>alien</td>\n      <td>0.984631</td>\n      <td>919.329346</td>\n      <td>255.698364</td>\n      <td>966.233765</td>\n      <td>305.948425</td>\n      <td>tiger</td>\n      <td>0.5</td>\n      <td>927.0</td>\n      <td>958.0</td>\n      <td>255.698364</td>\n      <td>302.0</td>\n    </tr>\n    <tr>\n      <th>3</th>\n      <td>3</td>\n      <td>4</td>\n      <td>alien</td>\n      <td>0.983412</td>\n      <td>920.016846</td>\n      <td>256.790466</td>\n      <td>966.449585</td>\n      <td>306.455994</td>\n      <td>tiger</td>\n      <td>0.5</td>\n      <td>928.0</td>\n      <td>959.0</td>\n      <td>256.790466</td>\n      <td>301.0</td>\n    </tr>\n    <tr>\n      <th>4</th>\n      <td>4</td>\n      <td>5</td>\n      <td>alien</td>\n      <td>0.980213</td>\n      <td>924.729797</td>\n      <td>227.831360</td>\n      <td>965.988953</td>\n      <td>302.414795</td>\n      <td>tiger</td>\n      <td>0.5</td>\n      <td>928.0</td>\n      <td>958.0</td>\n      <td>240.000000</td>\n      <td>302.0</td>\n    </tr>\n  </tbody>\n</table>\n</div>"
     },
     "metadata": {},
     "execution_count": 5
    }
   ],
   "source": [
    "df.head()"
   ]
  },
  {
   "cell_type": "code",
   "execution_count": 6,
   "metadata": {},
   "outputs": [
    {
     "output_type": "execute_result",
     "data": {
      "text/plain": [
       "3264"
      ]
     },
     "metadata": {},
     "execution_count": 6
    }
   ],
   "source": [
    "len(pd.unique(df[\"Record\"]))"
   ]
  },
  {
   "cell_type": "code",
   "execution_count": 7,
   "metadata": {},
   "outputs": [
    {
     "output_type": "execute_result",
     "data": {
      "text/plain": [
       "3264"
      ]
     },
     "metadata": {},
     "execution_count": 7
    }
   ],
   "source": [
    "len(pd.unique(df[\"Image Frame ID\"]))"
   ]
  },
  {
   "source": [
    "All values in the `Record` and `Image Frame ID` columns are unique."
   ],
   "cell_type": "markdown",
   "metadata": {}
  },
  {
   "source": [
    "pd.unique(df['Label'])"
   ],
   "cell_type": "code",
   "metadata": {},
   "execution_count": 8,
   "outputs": [
    {
     "output_type": "execute_result",
     "data": {
      "text/plain": [
       "array(['alien', 'baseball', 'gun', 'horse', 'computer', 'tiger', 'boat',\n",
       "       'lemon', 'moon', 'slenderman', 'elevator', 'puppy'], dtype=object)"
      ]
     },
     "metadata": {},
     "execution_count": 8
    }
   ]
  },
  {
   "cell_type": "code",
   "execution_count": 9,
   "metadata": {},
   "outputs": [
    {
     "output_type": "execute_result",
     "data": {
      "text/plain": [
       "array(['tiger', 'alien', nan, 'baseball', 'gun', 'horse', 'computer',\n",
       "       'puppy', 'elevator', 'moon', 'boat', 'lemon', 'slenderman'],\n",
       "      dtype=object)"
      ]
     },
     "metadata": {},
     "execution_count": 9
    }
   ],
   "source": [
    "pd.unique(df['GT Label'])"
   ]
  },
  {
   "source": [
    "We see `nan` only in the `GT Label` column and not `Label` column."
   ],
   "cell_type": "markdown",
   "metadata": {}
  },
  {
   "cell_type": "code",
   "execution_count": 10,
   "metadata": {},
   "outputs": [
    {
     "output_type": "execute_result",
     "data": {
      "text/plain": [
       "      Record  Image Frame ID     Label     Score           x1          y1  \\\n",
       "21        21              22     alien  0.992849   964.636108  220.287613   \n",
       "34        34              35  baseball  0.814130  1028.764404  124.488708   \n",
       "48        48              61     horse  0.139818   890.204773    3.088850   \n",
       "59        59              72  computer  0.933101   754.241089  118.244843   \n",
       "60        60              73  computer  0.985782   751.910400  119.423027   \n",
       "...      ...             ...       ...       ...          ...         ...   \n",
       "3259    3259            8443     lemon  0.358968  1577.975098   96.424683   \n",
       "3260    3260            8503      moon  0.678795  1605.961060   95.251701   \n",
       "3261    3261            8601  baseball  0.343997   421.312561  286.117523   \n",
       "3262    3262            8603  baseball  0.634486   428.349915  289.275024   \n",
       "3263    3263            8605  baseball  0.161124   440.533875  288.187256   \n",
       "\n",
       "               x2          y2 GT Label  Threshold  GTx1  GTx2  GTy1  GTy2  \n",
       "21    1016.201538  284.434875      NaN        0.5   0.0   0.0   0.0   0.0  \n",
       "34    1101.879395  178.164276      NaN        0.5   0.0   0.0   0.0   0.0  \n",
       "48     950.131531   56.837898      NaN        0.5   0.0   0.0   0.0   0.0  \n",
       "59     831.566772  163.777405      NaN        0.5   0.0   0.0   0.0   0.0  \n",
       "60     835.946289  166.316223      NaN        0.5   0.0   0.0   0.0   0.0  \n",
       "...           ...         ...      ...        ...   ...   ...   ...   ...  \n",
       "3259  1757.348877  166.386780      NaN        0.5   0.0   0.0   0.0   0.0  \n",
       "3260  1704.947144  233.457184      NaN        0.5   0.0   0.0   0.0   0.0  \n",
       "3261   545.831970  364.599823      NaN        0.5   0.0   0.0   0.0   0.0  \n",
       "3262   576.359192  383.126831      NaN        0.5   0.0   0.0   0.0   0.0  \n",
       "3263   578.560730  369.259460      NaN        0.5   0.0   0.0   0.0   0.0  \n",
       "\n",
       "[1912 rows x 14 columns]"
      ],
      "text/html": "<div>\n<style scoped>\n    .dataframe tbody tr th:only-of-type {\n        vertical-align: middle;\n    }\n\n    .dataframe tbody tr th {\n        vertical-align: top;\n    }\n\n    .dataframe thead th {\n        text-align: right;\n    }\n</style>\n<table border=\"1\" class=\"dataframe\">\n  <thead>\n    <tr style=\"text-align: right;\">\n      <th></th>\n      <th>Record</th>\n      <th>Image Frame ID</th>\n      <th>Label</th>\n      <th>Score</th>\n      <th>x1</th>\n      <th>y1</th>\n      <th>x2</th>\n      <th>y2</th>\n      <th>GT Label</th>\n      <th>Threshold</th>\n      <th>GTx1</th>\n      <th>GTx2</th>\n      <th>GTy1</th>\n      <th>GTy2</th>\n    </tr>\n  </thead>\n  <tbody>\n    <tr>\n      <th>21</th>\n      <td>21</td>\n      <td>22</td>\n      <td>alien</td>\n      <td>0.992849</td>\n      <td>964.636108</td>\n      <td>220.287613</td>\n      <td>1016.201538</td>\n      <td>284.434875</td>\n      <td>NaN</td>\n      <td>0.5</td>\n      <td>0.0</td>\n      <td>0.0</td>\n      <td>0.0</td>\n      <td>0.0</td>\n    </tr>\n    <tr>\n      <th>34</th>\n      <td>34</td>\n      <td>35</td>\n      <td>baseball</td>\n      <td>0.814130</td>\n      <td>1028.764404</td>\n      <td>124.488708</td>\n      <td>1101.879395</td>\n      <td>178.164276</td>\n      <td>NaN</td>\n      <td>0.5</td>\n      <td>0.0</td>\n      <td>0.0</td>\n      <td>0.0</td>\n      <td>0.0</td>\n    </tr>\n    <tr>\n      <th>48</th>\n      <td>48</td>\n      <td>61</td>\n      <td>horse</td>\n      <td>0.139818</td>\n      <td>890.204773</td>\n      <td>3.088850</td>\n      <td>950.131531</td>\n      <td>56.837898</td>\n      <td>NaN</td>\n      <td>0.5</td>\n      <td>0.0</td>\n      <td>0.0</td>\n      <td>0.0</td>\n      <td>0.0</td>\n    </tr>\n    <tr>\n      <th>59</th>\n      <td>59</td>\n      <td>72</td>\n      <td>computer</td>\n      <td>0.933101</td>\n      <td>754.241089</td>\n      <td>118.244843</td>\n      <td>831.566772</td>\n      <td>163.777405</td>\n      <td>NaN</td>\n      <td>0.5</td>\n      <td>0.0</td>\n      <td>0.0</td>\n      <td>0.0</td>\n      <td>0.0</td>\n    </tr>\n    <tr>\n      <th>60</th>\n      <td>60</td>\n      <td>73</td>\n      <td>computer</td>\n      <td>0.985782</td>\n      <td>751.910400</td>\n      <td>119.423027</td>\n      <td>835.946289</td>\n      <td>166.316223</td>\n      <td>NaN</td>\n      <td>0.5</td>\n      <td>0.0</td>\n      <td>0.0</td>\n      <td>0.0</td>\n      <td>0.0</td>\n    </tr>\n    <tr>\n      <th>...</th>\n      <td>...</td>\n      <td>...</td>\n      <td>...</td>\n      <td>...</td>\n      <td>...</td>\n      <td>...</td>\n      <td>...</td>\n      <td>...</td>\n      <td>...</td>\n      <td>...</td>\n      <td>...</td>\n      <td>...</td>\n      <td>...</td>\n      <td>...</td>\n    </tr>\n    <tr>\n      <th>3259</th>\n      <td>3259</td>\n      <td>8443</td>\n      <td>lemon</td>\n      <td>0.358968</td>\n      <td>1577.975098</td>\n      <td>96.424683</td>\n      <td>1757.348877</td>\n      <td>166.386780</td>\n      <td>NaN</td>\n      <td>0.5</td>\n      <td>0.0</td>\n      <td>0.0</td>\n      <td>0.0</td>\n      <td>0.0</td>\n    </tr>\n    <tr>\n      <th>3260</th>\n      <td>3260</td>\n      <td>8503</td>\n      <td>moon</td>\n      <td>0.678795</td>\n      <td>1605.961060</td>\n      <td>95.251701</td>\n      <td>1704.947144</td>\n      <td>233.457184</td>\n      <td>NaN</td>\n      <td>0.5</td>\n      <td>0.0</td>\n      <td>0.0</td>\n      <td>0.0</td>\n      <td>0.0</td>\n    </tr>\n    <tr>\n      <th>3261</th>\n      <td>3261</td>\n      <td>8601</td>\n      <td>baseball</td>\n      <td>0.343997</td>\n      <td>421.312561</td>\n      <td>286.117523</td>\n      <td>545.831970</td>\n      <td>364.599823</td>\n      <td>NaN</td>\n      <td>0.5</td>\n      <td>0.0</td>\n      <td>0.0</td>\n      <td>0.0</td>\n      <td>0.0</td>\n    </tr>\n    <tr>\n      <th>3262</th>\n      <td>3262</td>\n      <td>8603</td>\n      <td>baseball</td>\n      <td>0.634486</td>\n      <td>428.349915</td>\n      <td>289.275024</td>\n      <td>576.359192</td>\n      <td>383.126831</td>\n      <td>NaN</td>\n      <td>0.5</td>\n      <td>0.0</td>\n      <td>0.0</td>\n      <td>0.0</td>\n      <td>0.0</td>\n    </tr>\n    <tr>\n      <th>3263</th>\n      <td>3263</td>\n      <td>8605</td>\n      <td>baseball</td>\n      <td>0.161124</td>\n      <td>440.533875</td>\n      <td>288.187256</td>\n      <td>578.560730</td>\n      <td>369.259460</td>\n      <td>NaN</td>\n      <td>0.5</td>\n      <td>0.0</td>\n      <td>0.0</td>\n      <td>0.0</td>\n      <td>0.0</td>\n    </tr>\n  </tbody>\n</table>\n<p>1912 rows × 14 columns</p>\n</div>"
     },
     "metadata": {},
     "execution_count": 10
    }
   ],
   "source": [
    "df_nullGTLabels = df[df['GT Label'].isna()]\n",
    "df_nullGTLabels"
   ]
  },
  {
   "cell_type": "code",
   "execution_count": 11,
   "metadata": {},
   "outputs": [
    {
     "output_type": "execute_result",
     "data": {
      "text/plain": [
       "array([0.])"
      ]
     },
     "metadata": {},
     "execution_count": 11
    }
   ],
   "source": [
    "np.unique(df_nullGTLabels[[\"GTx1\", \"GTx2\", \"GTy1\", \"GTy2\"]])"
   ]
  },
  {
   "source": [
    "Looking at the above rows i.e. objector detector logs, we see that there are almost 1.9k rows where the object detector made a call (not final detection) but there was no GT box annotated in the image. This is because all values in `df_nullGTLabels` are strictly only zeroes. These calls could fall in FALSE POSTIVES (FPs). We will come back to this."
   ],
   "cell_type": "markdown",
   "metadata": {}
  },
  {
   "cell_type": "code",
   "execution_count": 12,
   "metadata": {},
   "outputs": [],
   "source": [
    "allLabels = list(set(list(pd.unique(df['Label'])) + list(pd.unique(df['GT Label']))))"
   ]
  },
  {
   "cell_type": "code",
   "execution_count": 13,
   "metadata": {},
   "outputs": [],
   "source": [
    "allLabels = sorted(list(filter(lambda label: isinstance(label, str) , allLabels)))"
   ]
  },
  {
   "cell_type": "code",
   "execution_count": 14,
   "metadata": {},
   "outputs": [],
   "source": [
    "labelDict = { ix+1:label  for ix, label in enumerate(allLabels) }"
   ]
  },
  {
   "cell_type": "code",
   "execution_count": 15,
   "metadata": {},
   "outputs": [
    {
     "output_type": "execute_result",
     "data": {
      "text/plain": [
       "{1: 'alien',\n",
       " 2: 'baseball',\n",
       " 3: 'boat',\n",
       " 4: 'computer',\n",
       " 5: 'elevator',\n",
       " 6: 'gun',\n",
       " 7: 'horse',\n",
       " 8: 'lemon',\n",
       " 9: 'moon',\n",
       " 10: 'puppy',\n",
       " 11: 'slenderman',\n",
       " 12: 'tiger'}"
      ]
     },
     "metadata": {},
     "execution_count": 15
    }
   ],
   "source": [
    "labelDict"
   ]
  },
  {
   "source": [],
   "cell_type": "code",
   "metadata": {},
   "execution_count": null,
   "outputs": []
  },
  {
   "cell_type": "code",
   "execution_count": 16,
   "metadata": {},
   "outputs": [
    {
     "output_type": "execute_result",
     "data": {
      "text/plain": [
       "0"
      ]
     },
     "metadata": {},
     "execution_count": 16
    }
   ],
   "source": [
    "df['Score'].isnull().sum()"
   ]
  },
  {
   "cell_type": "code",
   "execution_count": 17,
   "metadata": {},
   "outputs": [
    {
     "output_type": "execute_result",
     "data": {
      "text/plain": [
       "0"
      ]
     },
     "metadata": {},
     "execution_count": 17
    }
   ],
   "source": [
    "df['Threshold'].isnull().sum()"
   ]
  },
  {
   "source": [
    "We see that there zero rows where Score or Threshold columns has null values."
   ],
   "cell_type": "markdown",
   "metadata": {}
  },
  {
   "source": [
    "Check how many boxes meet the threshold and how many do not."
   ],
   "cell_type": "markdown",
   "metadata": {}
  },
  {
   "cell_type": "code",
   "execution_count": 18,
   "metadata": {},
   "outputs": [
    {
     "output_type": "execute_result",
     "data": {
      "text/plain": [
       "      Record  Image Frame ID       Label     Score           x1          y1  \\\n",
       "0          0               1       alien  0.987645   920.222046  243.421906   \n",
       "1          1               2       alien  0.983937   919.544434  255.061249   \n",
       "2          2               3       alien  0.984631   919.329346  255.698364   \n",
       "3          3               4       alien  0.983412   920.016846  256.790466   \n",
       "4          4               5       alien  0.980213   924.729797  227.831360   \n",
       "...      ...             ...         ...       ...          ...         ...   \n",
       "3254    3254            8323  slenderman  0.532561  1762.785400   98.031258   \n",
       "3256    3256            8329  slenderman  0.515350  1681.483643   81.956169   \n",
       "3258    3258            8345        moon  0.667698  1580.667236   73.267136   \n",
       "3260    3260            8503        moon  0.678795  1605.961060   95.251701   \n",
       "3262    3262            8603    baseball  0.634486   428.349915  289.275024   \n",
       "\n",
       "               x2          y2 GT Label  Threshold   GTx1   GTx2        GTy1  \\\n",
       "0      962.713257  308.385284    tiger        0.5  926.0  958.0  243.421906   \n",
       "1      965.888062  305.472931    tiger        0.5  929.0  958.0  255.061249   \n",
       "2      966.233765  305.948425    tiger        0.5  927.0  958.0  255.698364   \n",
       "3      966.449585  306.455994    tiger        0.5  928.0  959.0  256.790466   \n",
       "4      965.988953  302.414795    tiger        0.5  928.0  958.0  240.000000   \n",
       "...           ...         ...      ...        ...    ...    ...         ...   \n",
       "3254  1829.454102  252.625214      NaN        0.5    0.0    0.0    0.000000   \n",
       "3256  1763.589111  263.835114      NaN        0.5    0.0    0.0    0.000000   \n",
       "3258  1635.032959  219.568436      NaN        0.5    0.0    0.0    0.000000   \n",
       "3260  1704.947144  233.457184      NaN        0.5    0.0    0.0    0.000000   \n",
       "3262   576.359192  383.126831      NaN        0.5    0.0    0.0    0.000000   \n",
       "\n",
       "       GTy2  \n",
       "0     301.0  \n",
       "1     302.0  \n",
       "2     302.0  \n",
       "3     301.0  \n",
       "4     302.0  \n",
       "...     ...  \n",
       "3254    0.0  \n",
       "3256    0.0  \n",
       "3258    0.0  \n",
       "3260    0.0  \n",
       "3262    0.0  \n",
       "\n",
       "[2088 rows x 14 columns]"
      ],
      "text/html": "<div>\n<style scoped>\n    .dataframe tbody tr th:only-of-type {\n        vertical-align: middle;\n    }\n\n    .dataframe tbody tr th {\n        vertical-align: top;\n    }\n\n    .dataframe thead th {\n        text-align: right;\n    }\n</style>\n<table border=\"1\" class=\"dataframe\">\n  <thead>\n    <tr style=\"text-align: right;\">\n      <th></th>\n      <th>Record</th>\n      <th>Image Frame ID</th>\n      <th>Label</th>\n      <th>Score</th>\n      <th>x1</th>\n      <th>y1</th>\n      <th>x2</th>\n      <th>y2</th>\n      <th>GT Label</th>\n      <th>Threshold</th>\n      <th>GTx1</th>\n      <th>GTx2</th>\n      <th>GTy1</th>\n      <th>GTy2</th>\n    </tr>\n  </thead>\n  <tbody>\n    <tr>\n      <th>0</th>\n      <td>0</td>\n      <td>1</td>\n      <td>alien</td>\n      <td>0.987645</td>\n      <td>920.222046</td>\n      <td>243.421906</td>\n      <td>962.713257</td>\n      <td>308.385284</td>\n      <td>tiger</td>\n      <td>0.5</td>\n      <td>926.0</td>\n      <td>958.0</td>\n      <td>243.421906</td>\n      <td>301.0</td>\n    </tr>\n    <tr>\n      <th>1</th>\n      <td>1</td>\n      <td>2</td>\n      <td>alien</td>\n      <td>0.983937</td>\n      <td>919.544434</td>\n      <td>255.061249</td>\n      <td>965.888062</td>\n      <td>305.472931</td>\n      <td>tiger</td>\n      <td>0.5</td>\n      <td>929.0</td>\n      <td>958.0</td>\n      <td>255.061249</td>\n      <td>302.0</td>\n    </tr>\n    <tr>\n      <th>2</th>\n      <td>2</td>\n      <td>3</td>\n      <td>alien</td>\n      <td>0.984631</td>\n      <td>919.329346</td>\n      <td>255.698364</td>\n      <td>966.233765</td>\n      <td>305.948425</td>\n      <td>tiger</td>\n      <td>0.5</td>\n      <td>927.0</td>\n      <td>958.0</td>\n      <td>255.698364</td>\n      <td>302.0</td>\n    </tr>\n    <tr>\n      <th>3</th>\n      <td>3</td>\n      <td>4</td>\n      <td>alien</td>\n      <td>0.983412</td>\n      <td>920.016846</td>\n      <td>256.790466</td>\n      <td>966.449585</td>\n      <td>306.455994</td>\n      <td>tiger</td>\n      <td>0.5</td>\n      <td>928.0</td>\n      <td>959.0</td>\n      <td>256.790466</td>\n      <td>301.0</td>\n    </tr>\n    <tr>\n      <th>4</th>\n      <td>4</td>\n      <td>5</td>\n      <td>alien</td>\n      <td>0.980213</td>\n      <td>924.729797</td>\n      <td>227.831360</td>\n      <td>965.988953</td>\n      <td>302.414795</td>\n      <td>tiger</td>\n      <td>0.5</td>\n      <td>928.0</td>\n      <td>958.0</td>\n      <td>240.000000</td>\n      <td>302.0</td>\n    </tr>\n    <tr>\n      <th>...</th>\n      <td>...</td>\n      <td>...</td>\n      <td>...</td>\n      <td>...</td>\n      <td>...</td>\n      <td>...</td>\n      <td>...</td>\n      <td>...</td>\n      <td>...</td>\n      <td>...</td>\n      <td>...</td>\n      <td>...</td>\n      <td>...</td>\n      <td>...</td>\n    </tr>\n    <tr>\n      <th>3254</th>\n      <td>3254</td>\n      <td>8323</td>\n      <td>slenderman</td>\n      <td>0.532561</td>\n      <td>1762.785400</td>\n      <td>98.031258</td>\n      <td>1829.454102</td>\n      <td>252.625214</td>\n      <td>NaN</td>\n      <td>0.5</td>\n      <td>0.0</td>\n      <td>0.0</td>\n      <td>0.000000</td>\n      <td>0.0</td>\n    </tr>\n    <tr>\n      <th>3256</th>\n      <td>3256</td>\n      <td>8329</td>\n      <td>slenderman</td>\n      <td>0.515350</td>\n      <td>1681.483643</td>\n      <td>81.956169</td>\n      <td>1763.589111</td>\n      <td>263.835114</td>\n      <td>NaN</td>\n      <td>0.5</td>\n      <td>0.0</td>\n      <td>0.0</td>\n      <td>0.000000</td>\n      <td>0.0</td>\n    </tr>\n    <tr>\n      <th>3258</th>\n      <td>3258</td>\n      <td>8345</td>\n      <td>moon</td>\n      <td>0.667698</td>\n      <td>1580.667236</td>\n      <td>73.267136</td>\n      <td>1635.032959</td>\n      <td>219.568436</td>\n      <td>NaN</td>\n      <td>0.5</td>\n      <td>0.0</td>\n      <td>0.0</td>\n      <td>0.000000</td>\n      <td>0.0</td>\n    </tr>\n    <tr>\n      <th>3260</th>\n      <td>3260</td>\n      <td>8503</td>\n      <td>moon</td>\n      <td>0.678795</td>\n      <td>1605.961060</td>\n      <td>95.251701</td>\n      <td>1704.947144</td>\n      <td>233.457184</td>\n      <td>NaN</td>\n      <td>0.5</td>\n      <td>0.0</td>\n      <td>0.0</td>\n      <td>0.000000</td>\n      <td>0.0</td>\n    </tr>\n    <tr>\n      <th>3262</th>\n      <td>3262</td>\n      <td>8603</td>\n      <td>baseball</td>\n      <td>0.634486</td>\n      <td>428.349915</td>\n      <td>289.275024</td>\n      <td>576.359192</td>\n      <td>383.126831</td>\n      <td>NaN</td>\n      <td>0.5</td>\n      <td>0.0</td>\n      <td>0.0</td>\n      <td>0.000000</td>\n      <td>0.0</td>\n    </tr>\n  </tbody>\n</table>\n<p>2088 rows × 14 columns</p>\n</div>"
     },
     "metadata": {},
     "execution_count": 18
    }
   ],
   "source": [
    "df[df['Score'] >= df['Threshold']] # meet the threshold"
   ]
  },
  {
   "cell_type": "code",
   "execution_count": 19,
   "metadata": {},
   "outputs": [
    {
     "output_type": "execute_result",
     "data": {
      "text/plain": [
       "      Record  Image Frame ID       Label     Score           x1          y1  \\\n",
       "48        48              61       horse  0.139818   890.204773    3.088850   \n",
       "57        57              70    computer  0.466388   787.439270   66.531349   \n",
       "73        73              86       tiger  0.462734   812.575439  244.610870   \n",
       "91        91             105    baseball  0.272404  1007.174927  172.022675   \n",
       "95        95             112    baseball  0.480267  1034.785767  134.195847   \n",
       "...      ...             ...         ...       ...          ...         ...   \n",
       "3255    3255            8324  slenderman  0.319041  1744.257690  100.154381   \n",
       "3257    3257            8344       horse  0.254267  1571.641235   86.330704   \n",
       "3259    3259            8443       lemon  0.358968  1577.975098   96.424683   \n",
       "3261    3261            8601    baseball  0.343997   421.312561  286.117523   \n",
       "3263    3263            8605    baseball  0.161124   440.533875  288.187256   \n",
       "\n",
       "               x2          y2  GT Label  Threshold   GTx1        GTx2  GTy1  \\\n",
       "48     950.131531   56.837898       NaN        0.5    0.0    0.000000   0.0   \n",
       "57     847.361755  127.677879  computer        0.5  789.0  847.361755  73.0   \n",
       "73     884.141235  312.573090       NaN        0.5    0.0    0.000000   0.0   \n",
       "91    1091.642700  224.357452       NaN        0.5    0.0    0.000000   0.0   \n",
       "95    1104.828979  190.631302       NaN        0.5    0.0    0.000000   0.0   \n",
       "...           ...         ...       ...        ...    ...         ...   ...   \n",
       "3255  1813.766724  277.992340       NaN        0.5    0.0    0.000000   0.0   \n",
       "3257  1613.265991  162.403381       NaN        0.5    0.0    0.000000   0.0   \n",
       "3259  1757.348877  166.386780       NaN        0.5    0.0    0.000000   0.0   \n",
       "3261   545.831970  364.599823       NaN        0.5    0.0    0.000000   0.0   \n",
       "3263   578.560730  369.259460       NaN        0.5    0.0    0.000000   0.0   \n",
       "\n",
       "            GTy2  \n",
       "48      0.000000  \n",
       "57    127.677879  \n",
       "73      0.000000  \n",
       "91      0.000000  \n",
       "95      0.000000  \n",
       "...          ...  \n",
       "3255    0.000000  \n",
       "3257    0.000000  \n",
       "3259    0.000000  \n",
       "3261    0.000000  \n",
       "3263    0.000000  \n",
       "\n",
       "[1176 rows x 14 columns]"
      ],
      "text/html": "<div>\n<style scoped>\n    .dataframe tbody tr th:only-of-type {\n        vertical-align: middle;\n    }\n\n    .dataframe tbody tr th {\n        vertical-align: top;\n    }\n\n    .dataframe thead th {\n        text-align: right;\n    }\n</style>\n<table border=\"1\" class=\"dataframe\">\n  <thead>\n    <tr style=\"text-align: right;\">\n      <th></th>\n      <th>Record</th>\n      <th>Image Frame ID</th>\n      <th>Label</th>\n      <th>Score</th>\n      <th>x1</th>\n      <th>y1</th>\n      <th>x2</th>\n      <th>y2</th>\n      <th>GT Label</th>\n      <th>Threshold</th>\n      <th>GTx1</th>\n      <th>GTx2</th>\n      <th>GTy1</th>\n      <th>GTy2</th>\n    </tr>\n  </thead>\n  <tbody>\n    <tr>\n      <th>48</th>\n      <td>48</td>\n      <td>61</td>\n      <td>horse</td>\n      <td>0.139818</td>\n      <td>890.204773</td>\n      <td>3.088850</td>\n      <td>950.131531</td>\n      <td>56.837898</td>\n      <td>NaN</td>\n      <td>0.5</td>\n      <td>0.0</td>\n      <td>0.000000</td>\n      <td>0.0</td>\n      <td>0.000000</td>\n    </tr>\n    <tr>\n      <th>57</th>\n      <td>57</td>\n      <td>70</td>\n      <td>computer</td>\n      <td>0.466388</td>\n      <td>787.439270</td>\n      <td>66.531349</td>\n      <td>847.361755</td>\n      <td>127.677879</td>\n      <td>computer</td>\n      <td>0.5</td>\n      <td>789.0</td>\n      <td>847.361755</td>\n      <td>73.0</td>\n      <td>127.677879</td>\n    </tr>\n    <tr>\n      <th>73</th>\n      <td>73</td>\n      <td>86</td>\n      <td>tiger</td>\n      <td>0.462734</td>\n      <td>812.575439</td>\n      <td>244.610870</td>\n      <td>884.141235</td>\n      <td>312.573090</td>\n      <td>NaN</td>\n      <td>0.5</td>\n      <td>0.0</td>\n      <td>0.000000</td>\n      <td>0.0</td>\n      <td>0.000000</td>\n    </tr>\n    <tr>\n      <th>91</th>\n      <td>91</td>\n      <td>105</td>\n      <td>baseball</td>\n      <td>0.272404</td>\n      <td>1007.174927</td>\n      <td>172.022675</td>\n      <td>1091.642700</td>\n      <td>224.357452</td>\n      <td>NaN</td>\n      <td>0.5</td>\n      <td>0.0</td>\n      <td>0.000000</td>\n      <td>0.0</td>\n      <td>0.000000</td>\n    </tr>\n    <tr>\n      <th>95</th>\n      <td>95</td>\n      <td>112</td>\n      <td>baseball</td>\n      <td>0.480267</td>\n      <td>1034.785767</td>\n      <td>134.195847</td>\n      <td>1104.828979</td>\n      <td>190.631302</td>\n      <td>NaN</td>\n      <td>0.5</td>\n      <td>0.0</td>\n      <td>0.000000</td>\n      <td>0.0</td>\n      <td>0.000000</td>\n    </tr>\n    <tr>\n      <th>...</th>\n      <td>...</td>\n      <td>...</td>\n      <td>...</td>\n      <td>...</td>\n      <td>...</td>\n      <td>...</td>\n      <td>...</td>\n      <td>...</td>\n      <td>...</td>\n      <td>...</td>\n      <td>...</td>\n      <td>...</td>\n      <td>...</td>\n      <td>...</td>\n    </tr>\n    <tr>\n      <th>3255</th>\n      <td>3255</td>\n      <td>8324</td>\n      <td>slenderman</td>\n      <td>0.319041</td>\n      <td>1744.257690</td>\n      <td>100.154381</td>\n      <td>1813.766724</td>\n      <td>277.992340</td>\n      <td>NaN</td>\n      <td>0.5</td>\n      <td>0.0</td>\n      <td>0.000000</td>\n      <td>0.0</td>\n      <td>0.000000</td>\n    </tr>\n    <tr>\n      <th>3257</th>\n      <td>3257</td>\n      <td>8344</td>\n      <td>horse</td>\n      <td>0.254267</td>\n      <td>1571.641235</td>\n      <td>86.330704</td>\n      <td>1613.265991</td>\n      <td>162.403381</td>\n      <td>NaN</td>\n      <td>0.5</td>\n      <td>0.0</td>\n      <td>0.000000</td>\n      <td>0.0</td>\n      <td>0.000000</td>\n    </tr>\n    <tr>\n      <th>3259</th>\n      <td>3259</td>\n      <td>8443</td>\n      <td>lemon</td>\n      <td>0.358968</td>\n      <td>1577.975098</td>\n      <td>96.424683</td>\n      <td>1757.348877</td>\n      <td>166.386780</td>\n      <td>NaN</td>\n      <td>0.5</td>\n      <td>0.0</td>\n      <td>0.000000</td>\n      <td>0.0</td>\n      <td>0.000000</td>\n    </tr>\n    <tr>\n      <th>3261</th>\n      <td>3261</td>\n      <td>8601</td>\n      <td>baseball</td>\n      <td>0.343997</td>\n      <td>421.312561</td>\n      <td>286.117523</td>\n      <td>545.831970</td>\n      <td>364.599823</td>\n      <td>NaN</td>\n      <td>0.5</td>\n      <td>0.0</td>\n      <td>0.000000</td>\n      <td>0.0</td>\n      <td>0.000000</td>\n    </tr>\n    <tr>\n      <th>3263</th>\n      <td>3263</td>\n      <td>8605</td>\n      <td>baseball</td>\n      <td>0.161124</td>\n      <td>440.533875</td>\n      <td>288.187256</td>\n      <td>578.560730</td>\n      <td>369.259460</td>\n      <td>NaN</td>\n      <td>0.5</td>\n      <td>0.0</td>\n      <td>0.000000</td>\n      <td>0.0</td>\n      <td>0.000000</td>\n    </tr>\n  </tbody>\n</table>\n<p>1176 rows × 14 columns</p>\n</div>"
     },
     "metadata": {},
     "execution_count": 19
    }
   ],
   "source": [
    "df[df['Score'] < df['Threshold']] # do not meet the threshold"
   ]
  },
  {
   "source": [
    "The ones that do not meet the threshold can be categorized as **FALSE NEGATIVES** since the detection box will not appear which would be equivalent to saying that the object detector did not successfully detect the object."
   ],
   "cell_type": "markdown",
   "metadata": {}
  },
  {
   "source": [
    "There can be overlap of rows between what we called FALSE POSITIVES (based on `NaN` values under the `GT Label` column) and FALSE NEGATIVES (based on `score < threshold` condition) as shown in the following e.g."
   ],
   "cell_type": "markdown",
   "metadata": {}
  },
  {
   "cell_type": "code",
   "execution_count": 20,
   "metadata": {},
   "outputs": [
    {
     "output_type": "execute_result",
     "data": {
      "text/plain": [
       "Record                  48\n",
       "Image Frame ID          61\n",
       "Label                horse\n",
       "Score             0.139818\n",
       "x1                 890.205\n",
       "y1                 3.08885\n",
       "x2                 950.132\n",
       "y2                 56.8379\n",
       "GT Label               NaN\n",
       "Threshold              0.5\n",
       "GTx1                     0\n",
       "GTx2                     0\n",
       "GTy1                     0\n",
       "GTy2                     0\n",
       "Name: 48, dtype: object"
      ]
     },
     "metadata": {},
     "execution_count": 20
    }
   ],
   "source": [
    "df.loc[48, :] # index 48 is the first row of the previous dataframe"
   ]
  },
  {
   "source": [
    "We need to combine multiple conditions to correctly identify the number of FPs, FNs and TPs in the CSV. We still need to calculate the IoU between the GT box and predicted box and see if it meets the IoU threshold. We will assume that this threshold is 50%."
   ],
   "cell_type": "markdown",
   "metadata": {}
  },
  {
   "cell_type": "code",
   "execution_count": 21,
   "metadata": {},
   "outputs": [],
   "source": [
    "def calculate_iou(row):\n",
    "    pr_x_topleft, pr_y_topleft, pr_x_bottomright, pr_y_bottomright = row['x1'], row['y1'], row['x2'], row['y2']\n",
    "    gt_x_topleft, gt_y_topleft, gt_x_bottomright, gt_y_bottomright = row['GTx1'], row['GTy1'], row['GTx2'], row['GTy2']\n",
    "\n",
    "    if gt_x_topleft == 0 and gt_y_topleft == 0 and gt_x_bottomright == 0 and gt_y_bottomright == 0:\n",
    "        return 0.0 # this happens when no GT box was annotated\n",
    "    \n",
    "    if not pr_x_topleft <= pr_x_bottomright:\n",
    "        print(\"pr_x_topleft =\", pr_x_topleft)\n",
    "        print(\"pr_x_bottomright =\", pr_x_bottomright)\n",
    "        raise Exception(\"pr_x_topleft <= pr_x_bottomright condition is not being met. Possible issue.\")\n",
    "    if not pr_y_topleft <= pr_y_bottomright:\n",
    "        print(\"pr_y_topleft =\", pr_y_topleft)\n",
    "        print(\"pr_y_bottomright =\", pr_y_bottomright)\n",
    "        raise Exception(\"pr_y_topleft <= pr_y_bottomright condition is not being met. Possible issue.\")\n",
    "\n",
    "    # since we want even the last pixel along each dimensions to be considered, we 1 to each of the sides\n",
    "    gt_box_area = (gt_x_bottomright - gt_x_topleft + 1.0) * (gt_y_bottomright - gt_y_topleft + 1.0)\n",
    "    pr_box_area = (pr_x_bottomright - pr_x_topleft + 1.0) * (pr_y_bottomright - pr_y_topleft + 1.0)\n",
    "\n",
    "    # calculate coordinates of intersecting rectangle\n",
    "    # intersecting rectangle should be between gt box and pr_box\n",
    "    int_x_topleft = max(gt_x_topleft, pr_x_topleft)\n",
    "    int_y_topleft = max(gt_y_topleft, pr_y_topleft)\n",
    "    int_x_bottomright = min(gt_x_bottomright, pr_x_bottomright)\n",
    "    int_y_bottomright = min(gt_y_bottomright, pr_y_bottomright)\n",
    "\n",
    "    # even if one of the coordinates of bottom-right point of intersection box is less than top-left, \n",
    "    # the rectangle has to flip LR or UP to keep shape. But in doing this, it violates bottom-right coordinates >= top-left coordinates\n",
    "    int_box_area = max(int_x_bottomright - int_x_topleft + 1, 0) * max(int_y_bottomright - int_y_topleft + 1, 0)\n",
    "    \n",
    "    iou = int_box_area / (gt_box_area + pr_box_area - int_box_area)\n",
    "    return iou"
   ]
  },
  {
   "cell_type": "code",
   "execution_count": 22,
   "metadata": {},
   "outputs": [],
   "source": [
    "df['IoU'] = df.apply(calculate_iou, axis=1)"
   ]
  },
  {
   "cell_type": "code",
   "execution_count": 23,
   "metadata": {},
   "outputs": [
    {
     "output_type": "execute_result",
     "data": {
      "text/plain": [
       "      Record  Image Frame ID     Label     Score           x1          y1  \\\n",
       "0          0               1     alien  0.987645   920.222046  243.421906   \n",
       "1          1               2     alien  0.983937   919.544434  255.061249   \n",
       "2          2               3     alien  0.984631   919.329346  255.698364   \n",
       "3          3               4     alien  0.983412   920.016846  256.790466   \n",
       "4          4               5     alien  0.980213   924.729797  227.831360   \n",
       "...      ...             ...       ...       ...          ...         ...   \n",
       "3259    3259            8443     lemon  0.358968  1577.975098   96.424683   \n",
       "3260    3260            8503      moon  0.678795  1605.961060   95.251701   \n",
       "3261    3261            8601  baseball  0.343997   421.312561  286.117523   \n",
       "3262    3262            8603  baseball  0.634486   428.349915  289.275024   \n",
       "3263    3263            8605  baseball  0.161124   440.533875  288.187256   \n",
       "\n",
       "               x2          y2 GT Label  Threshold   GTx1   GTx2        GTy1  \\\n",
       "0      962.713257  308.385284    tiger        0.5  926.0  958.0  243.421906   \n",
       "1      965.888062  305.472931    tiger        0.5  929.0  958.0  255.061249   \n",
       "2      966.233765  305.948425    tiger        0.5  927.0  958.0  255.698364   \n",
       "3      966.449585  306.455994    tiger        0.5  928.0  959.0  256.790466   \n",
       "4      965.988953  302.414795    tiger        0.5  928.0  958.0  240.000000   \n",
       "...           ...         ...      ...        ...    ...    ...         ...   \n",
       "3259  1757.348877  166.386780      NaN        0.5    0.0    0.0    0.000000   \n",
       "3260  1704.947144  233.457184      NaN        0.5    0.0    0.0    0.000000   \n",
       "3261   545.831970  364.599823      NaN        0.5    0.0    0.0    0.000000   \n",
       "3262   576.359192  383.126831      NaN        0.5    0.0    0.0    0.000000   \n",
       "3263   578.560730  369.259460      NaN        0.5    0.0    0.0    0.000000   \n",
       "\n",
       "       GTy2       IoU  \n",
       "0     301.0  0.673821  \n",
       "1     302.0  0.590860  \n",
       "2     302.0  0.616533  \n",
       "3     301.0  0.601990  \n",
       "4     302.0  0.611441  \n",
       "...     ...       ...  \n",
       "3259    0.0  0.000000  \n",
       "3260    0.0  0.000000  \n",
       "3261    0.0  0.000000  \n",
       "3262    0.0  0.000000  \n",
       "3263    0.0  0.000000  \n",
       "\n",
       "[3264 rows x 15 columns]"
      ],
      "text/html": "<div>\n<style scoped>\n    .dataframe tbody tr th:only-of-type {\n        vertical-align: middle;\n    }\n\n    .dataframe tbody tr th {\n        vertical-align: top;\n    }\n\n    .dataframe thead th {\n        text-align: right;\n    }\n</style>\n<table border=\"1\" class=\"dataframe\">\n  <thead>\n    <tr style=\"text-align: right;\">\n      <th></th>\n      <th>Record</th>\n      <th>Image Frame ID</th>\n      <th>Label</th>\n      <th>Score</th>\n      <th>x1</th>\n      <th>y1</th>\n      <th>x2</th>\n      <th>y2</th>\n      <th>GT Label</th>\n      <th>Threshold</th>\n      <th>GTx1</th>\n      <th>GTx2</th>\n      <th>GTy1</th>\n      <th>GTy2</th>\n      <th>IoU</th>\n    </tr>\n  </thead>\n  <tbody>\n    <tr>\n      <th>0</th>\n      <td>0</td>\n      <td>1</td>\n      <td>alien</td>\n      <td>0.987645</td>\n      <td>920.222046</td>\n      <td>243.421906</td>\n      <td>962.713257</td>\n      <td>308.385284</td>\n      <td>tiger</td>\n      <td>0.5</td>\n      <td>926.0</td>\n      <td>958.0</td>\n      <td>243.421906</td>\n      <td>301.0</td>\n      <td>0.673821</td>\n    </tr>\n    <tr>\n      <th>1</th>\n      <td>1</td>\n      <td>2</td>\n      <td>alien</td>\n      <td>0.983937</td>\n      <td>919.544434</td>\n      <td>255.061249</td>\n      <td>965.888062</td>\n      <td>305.472931</td>\n      <td>tiger</td>\n      <td>0.5</td>\n      <td>929.0</td>\n      <td>958.0</td>\n      <td>255.061249</td>\n      <td>302.0</td>\n      <td>0.590860</td>\n    </tr>\n    <tr>\n      <th>2</th>\n      <td>2</td>\n      <td>3</td>\n      <td>alien</td>\n      <td>0.984631</td>\n      <td>919.329346</td>\n      <td>255.698364</td>\n      <td>966.233765</td>\n      <td>305.948425</td>\n      <td>tiger</td>\n      <td>0.5</td>\n      <td>927.0</td>\n      <td>958.0</td>\n      <td>255.698364</td>\n      <td>302.0</td>\n      <td>0.616533</td>\n    </tr>\n    <tr>\n      <th>3</th>\n      <td>3</td>\n      <td>4</td>\n      <td>alien</td>\n      <td>0.983412</td>\n      <td>920.016846</td>\n      <td>256.790466</td>\n      <td>966.449585</td>\n      <td>306.455994</td>\n      <td>tiger</td>\n      <td>0.5</td>\n      <td>928.0</td>\n      <td>959.0</td>\n      <td>256.790466</td>\n      <td>301.0</td>\n      <td>0.601990</td>\n    </tr>\n    <tr>\n      <th>4</th>\n      <td>4</td>\n      <td>5</td>\n      <td>alien</td>\n      <td>0.980213</td>\n      <td>924.729797</td>\n      <td>227.831360</td>\n      <td>965.988953</td>\n      <td>302.414795</td>\n      <td>tiger</td>\n      <td>0.5</td>\n      <td>928.0</td>\n      <td>958.0</td>\n      <td>240.000000</td>\n      <td>302.0</td>\n      <td>0.611441</td>\n    </tr>\n    <tr>\n      <th>...</th>\n      <td>...</td>\n      <td>...</td>\n      <td>...</td>\n      <td>...</td>\n      <td>...</td>\n      <td>...</td>\n      <td>...</td>\n      <td>...</td>\n      <td>...</td>\n      <td>...</td>\n      <td>...</td>\n      <td>...</td>\n      <td>...</td>\n      <td>...</td>\n      <td>...</td>\n    </tr>\n    <tr>\n      <th>3259</th>\n      <td>3259</td>\n      <td>8443</td>\n      <td>lemon</td>\n      <td>0.358968</td>\n      <td>1577.975098</td>\n      <td>96.424683</td>\n      <td>1757.348877</td>\n      <td>166.386780</td>\n      <td>NaN</td>\n      <td>0.5</td>\n      <td>0.0</td>\n      <td>0.0</td>\n      <td>0.000000</td>\n      <td>0.0</td>\n      <td>0.000000</td>\n    </tr>\n    <tr>\n      <th>3260</th>\n      <td>3260</td>\n      <td>8503</td>\n      <td>moon</td>\n      <td>0.678795</td>\n      <td>1605.961060</td>\n      <td>95.251701</td>\n      <td>1704.947144</td>\n      <td>233.457184</td>\n      <td>NaN</td>\n      <td>0.5</td>\n      <td>0.0</td>\n      <td>0.0</td>\n      <td>0.000000</td>\n      <td>0.0</td>\n      <td>0.000000</td>\n    </tr>\n    <tr>\n      <th>3261</th>\n      <td>3261</td>\n      <td>8601</td>\n      <td>baseball</td>\n      <td>0.343997</td>\n      <td>421.312561</td>\n      <td>286.117523</td>\n      <td>545.831970</td>\n      <td>364.599823</td>\n      <td>NaN</td>\n      <td>0.5</td>\n      <td>0.0</td>\n      <td>0.0</td>\n      <td>0.000000</td>\n      <td>0.0</td>\n      <td>0.000000</td>\n    </tr>\n    <tr>\n      <th>3262</th>\n      <td>3262</td>\n      <td>8603</td>\n      <td>baseball</td>\n      <td>0.634486</td>\n      <td>428.349915</td>\n      <td>289.275024</td>\n      <td>576.359192</td>\n      <td>383.126831</td>\n      <td>NaN</td>\n      <td>0.5</td>\n      <td>0.0</td>\n      <td>0.0</td>\n      <td>0.000000</td>\n      <td>0.0</td>\n      <td>0.000000</td>\n    </tr>\n    <tr>\n      <th>3263</th>\n      <td>3263</td>\n      <td>8605</td>\n      <td>baseball</td>\n      <td>0.161124</td>\n      <td>440.533875</td>\n      <td>288.187256</td>\n      <td>578.560730</td>\n      <td>369.259460</td>\n      <td>NaN</td>\n      <td>0.5</td>\n      <td>0.0</td>\n      <td>0.0</td>\n      <td>0.000000</td>\n      <td>0.0</td>\n      <td>0.000000</td>\n    </tr>\n  </tbody>\n</table>\n<p>3264 rows × 15 columns</p>\n</div>"
     },
     "metadata": {},
     "execution_count": 23
    }
   ],
   "source": [
    "df # dataframe with new column"
   ]
  },
  {
   "cell_type": "code",
   "execution_count": 24,
   "metadata": {},
   "outputs": [],
   "source": [
    "df_tp = df[(df['Score'] > df['Threshold']) & (df['IoU'] >= 0.5) & (df['Label'] == df['GT Label'])]"
   ]
  },
  {
   "cell_type": "code",
   "execution_count": 25,
   "metadata": {},
   "outputs": [
    {
     "output_type": "execute_result",
     "data": {
      "text/plain": [
       "      Record  Image Frame ID     Label     Score          x1          y1  \\\n",
       "15        15              16     alien  0.982272  937.451111  229.972229   \n",
       "23        23              24     alien  0.998562  968.756775  207.904373   \n",
       "25        25              26     alien  0.996078  983.659546  199.735611   \n",
       "26        26              27     alien  0.995432  993.389587  202.199905   \n",
       "27        27              28     alien  0.989907  987.749268  196.522629   \n",
       "...      ...             ...       ...       ...         ...         ...   \n",
       "2160    2160            3359  computer  0.995241  832.654053  245.300217   \n",
       "2161    2161            3360  computer  0.992161  820.870056  270.163757   \n",
       "2162    2162            3361  computer  0.992996  820.766052  270.103119   \n",
       "2164    2164            3363     tiger  0.993573  822.546692  315.660919   \n",
       "2165    2165            3364     tiger  0.990940  824.491394  323.041382   \n",
       "\n",
       "               x2          y2  GT Label  Threshold    GTx1         GTx2  \\\n",
       "15     979.905701  295.798462     alien        0.5   951.0   978.000000   \n",
       "23    1030.661133  271.755310     alien        0.5   989.0  1030.661133   \n",
       "25    1052.969971  255.341904     alien        0.5  1005.0  1049.000000   \n",
       "26    1059.060181  255.577408     alien        0.5  1007.0  1053.000000   \n",
       "27    1058.528076  261.822266     alien        0.5  1005.0  1051.000000   \n",
       "...           ...         ...       ...        ...     ...          ...   \n",
       "2160   884.214722  288.656097  computer        0.5   839.0   881.000000   \n",
       "2161   878.062561  311.628540  computer        0.5   834.0   878.062561   \n",
       "2162   882.474426  311.381012  computer        0.5   831.0   878.000000   \n",
       "2164   880.685486  354.767487     tiger        0.5   831.0   879.000000   \n",
       "2165   887.844055  369.843262     tiger        0.5   837.0   882.000000   \n",
       "\n",
       "            GTy1        GTy2       IoU  \n",
       "15    240.000000  295.798462  0.547661  \n",
       "23    221.000000  271.755310  0.541241  \n",
       "25    208.000000  255.341904  0.546578  \n",
       "26    202.199905  251.000000  0.645616  \n",
       "27    199.000000  255.000000  0.562944  \n",
       "...          ...         ...       ...  \n",
       "2160  251.000000  286.000000  0.663986  \n",
       "2161  270.163757  297.000000  0.507610  \n",
       "2162  282.000000  311.381012  0.550053  \n",
       "2164  317.000000  349.000000  0.681745  \n",
       "2165  333.000000  369.000000  0.553284  \n",
       "\n",
       "[1061 rows x 15 columns]"
      ],
      "text/html": "<div>\n<style scoped>\n    .dataframe tbody tr th:only-of-type {\n        vertical-align: middle;\n    }\n\n    .dataframe tbody tr th {\n        vertical-align: top;\n    }\n\n    .dataframe thead th {\n        text-align: right;\n    }\n</style>\n<table border=\"1\" class=\"dataframe\">\n  <thead>\n    <tr style=\"text-align: right;\">\n      <th></th>\n      <th>Record</th>\n      <th>Image Frame ID</th>\n      <th>Label</th>\n      <th>Score</th>\n      <th>x1</th>\n      <th>y1</th>\n      <th>x2</th>\n      <th>y2</th>\n      <th>GT Label</th>\n      <th>Threshold</th>\n      <th>GTx1</th>\n      <th>GTx2</th>\n      <th>GTy1</th>\n      <th>GTy2</th>\n      <th>IoU</th>\n    </tr>\n  </thead>\n  <tbody>\n    <tr>\n      <th>15</th>\n      <td>15</td>\n      <td>16</td>\n      <td>alien</td>\n      <td>0.982272</td>\n      <td>937.451111</td>\n      <td>229.972229</td>\n      <td>979.905701</td>\n      <td>295.798462</td>\n      <td>alien</td>\n      <td>0.5</td>\n      <td>951.0</td>\n      <td>978.000000</td>\n      <td>240.000000</td>\n      <td>295.798462</td>\n      <td>0.547661</td>\n    </tr>\n    <tr>\n      <th>23</th>\n      <td>23</td>\n      <td>24</td>\n      <td>alien</td>\n      <td>0.998562</td>\n      <td>968.756775</td>\n      <td>207.904373</td>\n      <td>1030.661133</td>\n      <td>271.755310</td>\n      <td>alien</td>\n      <td>0.5</td>\n      <td>989.0</td>\n      <td>1030.661133</td>\n      <td>221.000000</td>\n      <td>271.755310</td>\n      <td>0.541241</td>\n    </tr>\n    <tr>\n      <th>25</th>\n      <td>25</td>\n      <td>26</td>\n      <td>alien</td>\n      <td>0.996078</td>\n      <td>983.659546</td>\n      <td>199.735611</td>\n      <td>1052.969971</td>\n      <td>255.341904</td>\n      <td>alien</td>\n      <td>0.5</td>\n      <td>1005.0</td>\n      <td>1049.000000</td>\n      <td>208.000000</td>\n      <td>255.341904</td>\n      <td>0.546578</td>\n    </tr>\n    <tr>\n      <th>26</th>\n      <td>26</td>\n      <td>27</td>\n      <td>alien</td>\n      <td>0.995432</td>\n      <td>993.389587</td>\n      <td>202.199905</td>\n      <td>1059.060181</td>\n      <td>255.577408</td>\n      <td>alien</td>\n      <td>0.5</td>\n      <td>1007.0</td>\n      <td>1053.000000</td>\n      <td>202.199905</td>\n      <td>251.000000</td>\n      <td>0.645616</td>\n    </tr>\n    <tr>\n      <th>27</th>\n      <td>27</td>\n      <td>28</td>\n      <td>alien</td>\n      <td>0.989907</td>\n      <td>987.749268</td>\n      <td>196.522629</td>\n      <td>1058.528076</td>\n      <td>261.822266</td>\n      <td>alien</td>\n      <td>0.5</td>\n      <td>1005.0</td>\n      <td>1051.000000</td>\n      <td>199.000000</td>\n      <td>255.000000</td>\n      <td>0.562944</td>\n    </tr>\n    <tr>\n      <th>...</th>\n      <td>...</td>\n      <td>...</td>\n      <td>...</td>\n      <td>...</td>\n      <td>...</td>\n      <td>...</td>\n      <td>...</td>\n      <td>...</td>\n      <td>...</td>\n      <td>...</td>\n      <td>...</td>\n      <td>...</td>\n      <td>...</td>\n      <td>...</td>\n      <td>...</td>\n    </tr>\n    <tr>\n      <th>2160</th>\n      <td>2160</td>\n      <td>3359</td>\n      <td>computer</td>\n      <td>0.995241</td>\n      <td>832.654053</td>\n      <td>245.300217</td>\n      <td>884.214722</td>\n      <td>288.656097</td>\n      <td>computer</td>\n      <td>0.5</td>\n      <td>839.0</td>\n      <td>881.000000</td>\n      <td>251.000000</td>\n      <td>286.000000</td>\n      <td>0.663986</td>\n    </tr>\n    <tr>\n      <th>2161</th>\n      <td>2161</td>\n      <td>3360</td>\n      <td>computer</td>\n      <td>0.992161</td>\n      <td>820.870056</td>\n      <td>270.163757</td>\n      <td>878.062561</td>\n      <td>311.628540</td>\n      <td>computer</td>\n      <td>0.5</td>\n      <td>834.0</td>\n      <td>878.062561</td>\n      <td>270.163757</td>\n      <td>297.000000</td>\n      <td>0.507610</td>\n    </tr>\n    <tr>\n      <th>2162</th>\n      <td>2162</td>\n      <td>3361</td>\n      <td>computer</td>\n      <td>0.992996</td>\n      <td>820.766052</td>\n      <td>270.103119</td>\n      <td>882.474426</td>\n      <td>311.381012</td>\n      <td>computer</td>\n      <td>0.5</td>\n      <td>831.0</td>\n      <td>878.000000</td>\n      <td>282.000000</td>\n      <td>311.381012</td>\n      <td>0.550053</td>\n    </tr>\n    <tr>\n      <th>2164</th>\n      <td>2164</td>\n      <td>3363</td>\n      <td>tiger</td>\n      <td>0.993573</td>\n      <td>822.546692</td>\n      <td>315.660919</td>\n      <td>880.685486</td>\n      <td>354.767487</td>\n      <td>tiger</td>\n      <td>0.5</td>\n      <td>831.0</td>\n      <td>879.000000</td>\n      <td>317.000000</td>\n      <td>349.000000</td>\n      <td>0.681745</td>\n    </tr>\n    <tr>\n      <th>2165</th>\n      <td>2165</td>\n      <td>3364</td>\n      <td>tiger</td>\n      <td>0.990940</td>\n      <td>824.491394</td>\n      <td>323.041382</td>\n      <td>887.844055</td>\n      <td>369.843262</td>\n      <td>tiger</td>\n      <td>0.5</td>\n      <td>837.0</td>\n      <td>882.000000</td>\n      <td>333.000000</td>\n      <td>369.000000</td>\n      <td>0.553284</td>\n    </tr>\n  </tbody>\n</table>\n<p>1061 rows × 15 columns</p>\n</div>"
     },
     "metadata": {},
     "execution_count": 25
    }
   ],
   "source": [
    "df_tp"
   ]
  },
  {
   "cell_type": "code",
   "execution_count": 38,
   "metadata": {},
   "outputs": [
    {
     "output_type": "error",
     "ename": "SyntaxError",
     "evalue": "invalid syntax (<ipython-input-38-f7bc91c34354>, line 2)",
     "traceback": [
      "\u001b[0;36m  File \u001b[0;32m\"<ipython-input-38-f7bc91c34354>\"\u001b[0;36m, line \u001b[0;32m2\u001b[0m\n\u001b[0;31m    | (df['Score'] > df['Threshold']) & (df['IoU'] < 0.5))\u001b[0m\n\u001b[0m                                                         ^\u001b[0m\n\u001b[0;31mSyntaxError\u001b[0m\u001b[0;31m:\u001b[0m invalid syntax\n"
     ]
    }
   ],
   "source": [
    "df_fp = df[ (df['Score'] > df['Threshold']) & (df['IoU'] >= 0.5) & (df['Label'] != df['GT Label']) \\\n",
    "            | (df['Score'] > df['Threshold']) & (df['IoU'] < 0.5))\n",
    "        ]"
   ]
  },
  {
   "cell_type": "code",
   "execution_count": 39,
   "metadata": {},
   "outputs": [
    {
     "output_type": "execute_result",
     "data": {
      "text/plain": [
       "      Record  Image Frame ID       Label     Score           x1          y1  \\\n",
       "0          0               1       alien  0.987645   920.222046  243.421906   \n",
       "1          1               2       alien  0.983937   919.544434  255.061249   \n",
       "2          2               3       alien  0.984631   919.329346  255.698364   \n",
       "3          3               4       alien  0.983412   920.016846  256.790466   \n",
       "4          4               5       alien  0.980213   924.729797  227.831360   \n",
       "5          5               6       alien  0.980836   920.885254  257.802155   \n",
       "6          6               7       alien  0.977441   924.987061  228.362213   \n",
       "7          7               8       alien  0.976036   919.899658  256.045319   \n",
       "9          9              10       alien  0.980342   924.209595  229.552673   \n",
       "10        10              11       alien  0.975542   913.370972  236.199219   \n",
       "11        11              12       alien  0.970145   921.268921  241.608154   \n",
       "13        13              14       alien  0.959565   912.208862  237.288864   \n",
       "14        14              15       alien  0.980405   931.772400  249.906509   \n",
       "46        46              48         gun  0.936159   967.344604   15.442877   \n",
       "47        47              49         gun  0.506255   965.408936   11.927542   \n",
       "56        56              69    computer  0.903539   787.791870   57.120201   \n",
       "64        64              77       tiger  0.796919   750.985657  190.245056   \n",
       "79        79              93       alien  0.939617   930.522827  246.499557   \n",
       "82        82              96       alien  0.863429   945.581909  236.669174   \n",
       "116      116             141    computer  0.586624   793.315857   65.074081   \n",
       "184      184             213       tiger  0.571181   722.692871  467.048187   \n",
       "195      195             232       alien  0.950399   905.182617  376.975006   \n",
       "265      265             315    computer  0.609026   595.025696  166.069763   \n",
       "273      273             323       tiger  0.666961   767.486938  417.130493   \n",
       "286      286             346       alien  0.765803  1114.242798  615.504517   \n",
       "312      312             375       horse  0.629665   635.105286  321.977448   \n",
       "316      316             379       tiger  0.692075   605.043884  487.142731   \n",
       "329      329             397        moon  0.581419  1000.726929  637.044983   \n",
       "356      356             426       tiger  0.967835   545.048340  507.668671   \n",
       "360      360             432       alien  0.874486   949.312317  718.991089   \n",
       "491      491             582    baseball  0.965814   550.423828  638.459229   \n",
       "852      852            1035    baseball  0.994803   974.124146  494.307281   \n",
       "883      883            1073    elevator  0.879225  1248.954956  920.498779   \n",
       "917      917            1114    elevator  0.672658   954.573975  178.296127   \n",
       "928      928            1125        moon  0.520782   938.009521  200.129242   \n",
       "940      940            1137        boat  0.869159   726.277466  170.995178   \n",
       "952      952            1149       lemon  0.839862   756.227173   59.284081   \n",
       "971      971            1170  slenderman  0.882847   907.422791    0.000000   \n",
       "995      995            1194        moon  0.902523   990.402893  169.512711   \n",
       "1051    1051            1250       puppy  0.689858   904.619324   40.268578   \n",
       "1117    1117            1317       puppy  0.691572   774.364014   58.305603   \n",
       "1176    1176            1378       puppy  0.857470   819.028503   92.245789   \n",
       "1185    1185            1387       lemon  0.780385   556.611206  209.400360   \n",
       "1194    1194            1396       lemon  0.740270   584.871643  385.549927   \n",
       "1231    1231            1433       puppy  0.974355   848.979126  358.056885   \n",
       "1286    1286            1489        moon  0.953277   880.892029  515.717468   \n",
       "1678    1678            2874         gun  0.985259  1022.407898   83.470787   \n",
       "1698    1698            2894    computer  0.796891   927.356140  148.841232   \n",
       "1805    1805            3001    baseball  0.746443  1104.634766  156.884705   \n",
       "1875    1875            3071    computer  0.834597   905.193909  235.313095   \n",
       "1977    1977            3174    baseball  0.701035  1029.007202  191.041504   \n",
       "2004    2004            3201       horse  0.920982   921.459045  155.589737   \n",
       "2025    2025            3222       horse  0.944998   847.994873  205.337173   \n",
       "2111    2111            3310    baseball  0.843089  1060.609375  230.498093   \n",
       "\n",
       "               x2           y2    GT Label  Threshold         GTx1  \\\n",
       "0      962.713257   308.385284       tiger        0.5   926.000000   \n",
       "1      965.888062   305.472931       tiger        0.5   929.000000   \n",
       "2      966.233765   305.948425       tiger        0.5   927.000000   \n",
       "3      966.449585   306.455994       tiger        0.5   928.000000   \n",
       "4      965.988953   302.414795       tiger        0.5   928.000000   \n",
       "5      966.539429   307.847443       tiger        0.5   925.000000   \n",
       "6      965.576294   303.709625       tiger        0.5   929.000000   \n",
       "7      967.320435   306.536530       tiger        0.5   926.000000   \n",
       "9      965.439941   304.308411       tiger        0.5   929.000000   \n",
       "10     954.419312   301.429749       tiger        0.5   927.000000   \n",
       "11     963.570068   309.668640       tiger        0.5   927.000000   \n",
       "13     960.410034   302.769531       tiger        0.5   931.000000   \n",
       "14     974.701599   297.978882       tiger        0.5   940.000000   \n",
       "46    1016.057495    78.854309       horse        0.5   979.000000   \n",
       "47    1007.118408    74.094666       horse        0.5   975.000000   \n",
       "56     855.235596   125.565712       horse        0.5   804.000000   \n",
       "64     814.827820   226.622314    computer        0.5   751.000000   \n",
       "79     975.265503   301.934235       tiger        0.5   939.000000   \n",
       "82     993.023071   300.224518       tiger        0.5   950.000000   \n",
       "116    857.134338   133.420181       horse        0.5   800.000000   \n",
       "184    778.828979   550.886719       alien        0.5   722.692871   \n",
       "195   1010.423096   435.091095    baseball        0.5   919.000000   \n",
       "265    673.849182   259.790863       horse        0.5   596.000000   \n",
       "273    829.529785   501.616821       alien        0.5   767.486938   \n",
       "286   1244.049683   679.439453    baseball        0.5  1114.242798   \n",
       "312    749.724060   456.255829    computer        0.5   639.000000   \n",
       "316    728.328796   565.133484    computer        0.5   605.043884   \n",
       "329   1077.149292   782.794983       alien        0.5  1000.726929   \n",
       "356    689.135986   596.554199    computer        0.5   547.000000   \n",
       "360   1019.356506   825.771362       tiger        0.5   959.000000   \n",
       "491    624.782593   710.494019       alien        0.5   555.000000   \n",
       "852   1113.904175   572.888123    computer        0.5   990.000000   \n",
       "883   1513.672485  1079.000000    baseball        0.5  1276.000000   \n",
       "917   1214.573486   324.786255        moon        0.5   974.000000   \n",
       "928   1003.179688   446.960663        boat        0.5   947.000000   \n",
       "940    972.819336   313.494476       lemon        0.5   730.000000   \n",
       "952    963.334961   220.245422  slenderman        0.5   756.227173   \n",
       "971    983.512024   176.103912       puppy        0.5   907.422791   \n",
       "995   1216.708984   309.091675    elevator        0.5  1001.000000   \n",
       "1051   981.569763   275.943359  slenderman        0.5   904.619324   \n",
       "1117   938.571045   447.721436  slenderman        0.5   798.000000   \n",
       "1176   930.935852   414.756500  slenderman        0.5   822.000000   \n",
       "1185   873.208008   410.375580  slenderman        0.5   574.000000   \n",
       "1194   890.910217   544.116943        boat        0.5   584.871643   \n",
       "1231  1336.286011   622.402649    elevator        0.5   889.000000   \n",
       "1286  1310.932129   773.242615    elevator        0.5   880.892029   \n",
       "1678  1050.799072   127.238503       horse        0.5  1022.407898   \n",
       "1698   964.150208   188.475632       horse        0.5   935.000000   \n",
       "1805  1141.114502   197.980164         gun        0.5  1109.000000   \n",
       "1875   951.483337   260.531372       tiger        0.5   913.000000   \n",
       "1977  1067.120728   237.491791         gun        0.5  1037.000000   \n",
       "2004   952.237000   195.257523         gun        0.5   930.000000   \n",
       "2025   892.567627   263.618713    computer        0.5   849.000000   \n",
       "2111  1105.789795   280.755310         gun        0.5  1068.000000   \n",
       "\n",
       "             GTx2        GTy1         GTy2       IoU  \n",
       "0      958.000000  243.421906   301.000000  0.673821  \n",
       "1      958.000000  255.061249   302.000000  0.590860  \n",
       "2      958.000000  255.698364   302.000000  0.616533  \n",
       "3      959.000000  256.790466   301.000000  0.601990  \n",
       "4      958.000000  240.000000   302.000000  0.611441  \n",
       "5      959.000000  257.802155   302.000000  0.664262  \n",
       "6      958.000000  241.000000   301.000000  0.576336  \n",
       "7      959.000000  256.045319   301.000000  0.626677  \n",
       "9      957.000000  241.000000   301.000000  0.552952  \n",
       "10     954.419312  242.000000   301.429749  0.616676  \n",
       "11     959.000000  242.000000   303.000000  0.684190  \n",
       "13     960.410034  244.000000   302.769531  0.555682  \n",
       "14     970.000000  249.906509   297.978882  0.705681  \n",
       "46    1016.057495   19.000000    78.854309  0.723269  \n",
       "47    1007.118408   17.000000    74.094666  0.713166  \n",
       "56     855.235596   57.120201   120.000000  0.702025  \n",
       "64     814.827820  190.245056   213.000000  0.635405  \n",
       "79     974.000000  246.499557   301.934235  0.787011  \n",
       "82     993.023071  253.000000   300.224518  0.678893  \n",
       "116    853.000000   65.074081   129.000000  0.779993  \n",
       "184    778.828979  467.048187   546.000000  0.942400  \n",
       "195   1010.423096  384.000000   435.091095  0.766564  \n",
       "265    665.000000  183.000000   259.790863  0.720194  \n",
       "273    813.000000  423.000000   501.616821  0.687143  \n",
       "286   1238.000000  615.504517   676.000000  0.903233  \n",
       "312    742.000000  333.000000   456.000000  0.824514  \n",
       "316    728.328796  499.000000   565.133484  0.849890  \n",
       "329   1077.149292  654.000000   765.000000  0.763203  \n",
       "356    680.000000  514.000000   588.000000  0.770630  \n",
       "360   1017.000000  718.991089   825.771362  0.830469  \n",
       "491    614.000000  638.459229   708.000000  0.769003  \n",
       "852   1093.000000  513.000000   572.888123  0.565218  \n",
       "883   1508.000000  937.000000  1059.000000  0.676203  \n",
       "917   1208.000000  187.000000   315.000000  0.787508  \n",
       "928   1003.179688  202.000000   446.960663  0.857608  \n",
       "940    955.000000  194.000000   313.494476  0.766615  \n",
       "952    961.000000   59.284081   220.245422  0.988780  \n",
       "971    977.000000    0.000000   176.103912  0.915526  \n",
       "995   1216.708984  181.000000   309.000000  0.874853  \n",
       "1051   974.000000   40.268578   275.943359  0.902890  \n",
       "1117   894.000000   72.000000   426.000000  0.533881  \n",
       "1176   928.000000   97.000000   414.756500  0.933753  \n",
       "1185   870.000000  209.400360   410.375580  0.935148  \n",
       "1194   876.000000  392.000000   544.116943  0.912979  \n",
       "1231  1324.000000  358.056885   618.000000  0.878066  \n",
       "1286  1297.000000  518.000000   772.000000  0.954483  \n",
       "1678  1043.000000   87.000000   121.000000  0.574356  \n",
       "1698   964.150208  148.841232   181.000000  0.650985  \n",
       "1805  1136.000000  166.000000   197.980164  0.585301  \n",
       "1875   951.483337  235.313095   256.000000  0.690626  \n",
       "1977  1067.120728  199.000000   228.000000  0.503043  \n",
       "2004   952.237000  155.589737   191.000000  0.654677  \n",
       "2025   887.000000  205.337173   249.000000  0.644742  \n",
       "2111  1104.000000  230.498093   274.000000  0.695613  "
      ],
      "text/html": "<div>\n<style scoped>\n    .dataframe tbody tr th:only-of-type {\n        vertical-align: middle;\n    }\n\n    .dataframe tbody tr th {\n        vertical-align: top;\n    }\n\n    .dataframe thead th {\n        text-align: right;\n    }\n</style>\n<table border=\"1\" class=\"dataframe\">\n  <thead>\n    <tr style=\"text-align: right;\">\n      <th></th>\n      <th>Record</th>\n      <th>Image Frame ID</th>\n      <th>Label</th>\n      <th>Score</th>\n      <th>x1</th>\n      <th>y1</th>\n      <th>x2</th>\n      <th>y2</th>\n      <th>GT Label</th>\n      <th>Threshold</th>\n      <th>GTx1</th>\n      <th>GTx2</th>\n      <th>GTy1</th>\n      <th>GTy2</th>\n      <th>IoU</th>\n    </tr>\n  </thead>\n  <tbody>\n    <tr>\n      <th>0</th>\n      <td>0</td>\n      <td>1</td>\n      <td>alien</td>\n      <td>0.987645</td>\n      <td>920.222046</td>\n      <td>243.421906</td>\n      <td>962.713257</td>\n      <td>308.385284</td>\n      <td>tiger</td>\n      <td>0.5</td>\n      <td>926.000000</td>\n      <td>958.000000</td>\n      <td>243.421906</td>\n      <td>301.000000</td>\n      <td>0.673821</td>\n    </tr>\n    <tr>\n      <th>1</th>\n      <td>1</td>\n      <td>2</td>\n      <td>alien</td>\n      <td>0.983937</td>\n      <td>919.544434</td>\n      <td>255.061249</td>\n      <td>965.888062</td>\n      <td>305.472931</td>\n      <td>tiger</td>\n      <td>0.5</td>\n      <td>929.000000</td>\n      <td>958.000000</td>\n      <td>255.061249</td>\n      <td>302.000000</td>\n      <td>0.590860</td>\n    </tr>\n    <tr>\n      <th>2</th>\n      <td>2</td>\n      <td>3</td>\n      <td>alien</td>\n      <td>0.984631</td>\n      <td>919.329346</td>\n      <td>255.698364</td>\n      <td>966.233765</td>\n      <td>305.948425</td>\n      <td>tiger</td>\n      <td>0.5</td>\n      <td>927.000000</td>\n      <td>958.000000</td>\n      <td>255.698364</td>\n      <td>302.000000</td>\n      <td>0.616533</td>\n    </tr>\n    <tr>\n      <th>3</th>\n      <td>3</td>\n      <td>4</td>\n      <td>alien</td>\n      <td>0.983412</td>\n      <td>920.016846</td>\n      <td>256.790466</td>\n      <td>966.449585</td>\n      <td>306.455994</td>\n      <td>tiger</td>\n      <td>0.5</td>\n      <td>928.000000</td>\n      <td>959.000000</td>\n      <td>256.790466</td>\n      <td>301.000000</td>\n      <td>0.601990</td>\n    </tr>\n    <tr>\n      <th>4</th>\n      <td>4</td>\n      <td>5</td>\n      <td>alien</td>\n      <td>0.980213</td>\n      <td>924.729797</td>\n      <td>227.831360</td>\n      <td>965.988953</td>\n      <td>302.414795</td>\n      <td>tiger</td>\n      <td>0.5</td>\n      <td>928.000000</td>\n      <td>958.000000</td>\n      <td>240.000000</td>\n      <td>302.000000</td>\n      <td>0.611441</td>\n    </tr>\n    <tr>\n      <th>5</th>\n      <td>5</td>\n      <td>6</td>\n      <td>alien</td>\n      <td>0.980836</td>\n      <td>920.885254</td>\n      <td>257.802155</td>\n      <td>966.539429</td>\n      <td>307.847443</td>\n      <td>tiger</td>\n      <td>0.5</td>\n      <td>925.000000</td>\n      <td>959.000000</td>\n      <td>257.802155</td>\n      <td>302.000000</td>\n      <td>0.664262</td>\n    </tr>\n    <tr>\n      <th>6</th>\n      <td>6</td>\n      <td>7</td>\n      <td>alien</td>\n      <td>0.977441</td>\n      <td>924.987061</td>\n      <td>228.362213</td>\n      <td>965.576294</td>\n      <td>303.709625</td>\n      <td>tiger</td>\n      <td>0.5</td>\n      <td>929.000000</td>\n      <td>958.000000</td>\n      <td>241.000000</td>\n      <td>301.000000</td>\n      <td>0.576336</td>\n    </tr>\n    <tr>\n      <th>7</th>\n      <td>7</td>\n      <td>8</td>\n      <td>alien</td>\n      <td>0.976036</td>\n      <td>919.899658</td>\n      <td>256.045319</td>\n      <td>967.320435</td>\n      <td>306.536530</td>\n      <td>tiger</td>\n      <td>0.5</td>\n      <td>926.000000</td>\n      <td>959.000000</td>\n      <td>256.045319</td>\n      <td>301.000000</td>\n      <td>0.626677</td>\n    </tr>\n    <tr>\n      <th>9</th>\n      <td>9</td>\n      <td>10</td>\n      <td>alien</td>\n      <td>0.980342</td>\n      <td>924.209595</td>\n      <td>229.552673</td>\n      <td>965.439941</td>\n      <td>304.308411</td>\n      <td>tiger</td>\n      <td>0.5</td>\n      <td>929.000000</td>\n      <td>957.000000</td>\n      <td>241.000000</td>\n      <td>301.000000</td>\n      <td>0.552952</td>\n    </tr>\n    <tr>\n      <th>10</th>\n      <td>10</td>\n      <td>11</td>\n      <td>alien</td>\n      <td>0.975542</td>\n      <td>913.370972</td>\n      <td>236.199219</td>\n      <td>954.419312</td>\n      <td>301.429749</td>\n      <td>tiger</td>\n      <td>0.5</td>\n      <td>927.000000</td>\n      <td>954.419312</td>\n      <td>242.000000</td>\n      <td>301.429749</td>\n      <td>0.616676</td>\n    </tr>\n    <tr>\n      <th>11</th>\n      <td>11</td>\n      <td>12</td>\n      <td>alien</td>\n      <td>0.970145</td>\n      <td>921.268921</td>\n      <td>241.608154</td>\n      <td>963.570068</td>\n      <td>309.668640</td>\n      <td>tiger</td>\n      <td>0.5</td>\n      <td>927.000000</td>\n      <td>959.000000</td>\n      <td>242.000000</td>\n      <td>303.000000</td>\n      <td>0.684190</td>\n    </tr>\n    <tr>\n      <th>13</th>\n      <td>13</td>\n      <td>14</td>\n      <td>alien</td>\n      <td>0.959565</td>\n      <td>912.208862</td>\n      <td>237.288864</td>\n      <td>960.410034</td>\n      <td>302.769531</td>\n      <td>tiger</td>\n      <td>0.5</td>\n      <td>931.000000</td>\n      <td>960.410034</td>\n      <td>244.000000</td>\n      <td>302.769531</td>\n      <td>0.555682</td>\n    </tr>\n    <tr>\n      <th>14</th>\n      <td>14</td>\n      <td>15</td>\n      <td>alien</td>\n      <td>0.980405</td>\n      <td>931.772400</td>\n      <td>249.906509</td>\n      <td>974.701599</td>\n      <td>297.978882</td>\n      <td>tiger</td>\n      <td>0.5</td>\n      <td>940.000000</td>\n      <td>970.000000</td>\n      <td>249.906509</td>\n      <td>297.978882</td>\n      <td>0.705681</td>\n    </tr>\n    <tr>\n      <th>46</th>\n      <td>46</td>\n      <td>48</td>\n      <td>gun</td>\n      <td>0.936159</td>\n      <td>967.344604</td>\n      <td>15.442877</td>\n      <td>1016.057495</td>\n      <td>78.854309</td>\n      <td>horse</td>\n      <td>0.5</td>\n      <td>979.000000</td>\n      <td>1016.057495</td>\n      <td>19.000000</td>\n      <td>78.854309</td>\n      <td>0.723269</td>\n    </tr>\n    <tr>\n      <th>47</th>\n      <td>47</td>\n      <td>49</td>\n      <td>gun</td>\n      <td>0.506255</td>\n      <td>965.408936</td>\n      <td>11.927542</td>\n      <td>1007.118408</td>\n      <td>74.094666</td>\n      <td>horse</td>\n      <td>0.5</td>\n      <td>975.000000</td>\n      <td>1007.118408</td>\n      <td>17.000000</td>\n      <td>74.094666</td>\n      <td>0.713166</td>\n    </tr>\n    <tr>\n      <th>56</th>\n      <td>56</td>\n      <td>69</td>\n      <td>computer</td>\n      <td>0.903539</td>\n      <td>787.791870</td>\n      <td>57.120201</td>\n      <td>855.235596</td>\n      <td>125.565712</td>\n      <td>horse</td>\n      <td>0.5</td>\n      <td>804.000000</td>\n      <td>855.235596</td>\n      <td>57.120201</td>\n      <td>120.000000</td>\n      <td>0.702025</td>\n    </tr>\n    <tr>\n      <th>64</th>\n      <td>64</td>\n      <td>77</td>\n      <td>tiger</td>\n      <td>0.796919</td>\n      <td>750.985657</td>\n      <td>190.245056</td>\n      <td>814.827820</td>\n      <td>226.622314</td>\n      <td>computer</td>\n      <td>0.5</td>\n      <td>751.000000</td>\n      <td>814.827820</td>\n      <td>190.245056</td>\n      <td>213.000000</td>\n      <td>0.635405</td>\n    </tr>\n    <tr>\n      <th>79</th>\n      <td>79</td>\n      <td>93</td>\n      <td>alien</td>\n      <td>0.939617</td>\n      <td>930.522827</td>\n      <td>246.499557</td>\n      <td>975.265503</td>\n      <td>301.934235</td>\n      <td>tiger</td>\n      <td>0.5</td>\n      <td>939.000000</td>\n      <td>974.000000</td>\n      <td>246.499557</td>\n      <td>301.934235</td>\n      <td>0.787011</td>\n    </tr>\n    <tr>\n      <th>82</th>\n      <td>82</td>\n      <td>96</td>\n      <td>alien</td>\n      <td>0.863429</td>\n      <td>945.581909</td>\n      <td>236.669174</td>\n      <td>993.023071</td>\n      <td>300.224518</td>\n      <td>tiger</td>\n      <td>0.5</td>\n      <td>950.000000</td>\n      <td>993.023071</td>\n      <td>253.000000</td>\n      <td>300.224518</td>\n      <td>0.678893</td>\n    </tr>\n    <tr>\n      <th>116</th>\n      <td>116</td>\n      <td>141</td>\n      <td>computer</td>\n      <td>0.586624</td>\n      <td>793.315857</td>\n      <td>65.074081</td>\n      <td>857.134338</td>\n      <td>133.420181</td>\n      <td>horse</td>\n      <td>0.5</td>\n      <td>800.000000</td>\n      <td>853.000000</td>\n      <td>65.074081</td>\n      <td>129.000000</td>\n      <td>0.779993</td>\n    </tr>\n    <tr>\n      <th>184</th>\n      <td>184</td>\n      <td>213</td>\n      <td>tiger</td>\n      <td>0.571181</td>\n      <td>722.692871</td>\n      <td>467.048187</td>\n      <td>778.828979</td>\n      <td>550.886719</td>\n      <td>alien</td>\n      <td>0.5</td>\n      <td>722.692871</td>\n      <td>778.828979</td>\n      <td>467.048187</td>\n      <td>546.000000</td>\n      <td>0.942400</td>\n    </tr>\n    <tr>\n      <th>195</th>\n      <td>195</td>\n      <td>232</td>\n      <td>alien</td>\n      <td>0.950399</td>\n      <td>905.182617</td>\n      <td>376.975006</td>\n      <td>1010.423096</td>\n      <td>435.091095</td>\n      <td>baseball</td>\n      <td>0.5</td>\n      <td>919.000000</td>\n      <td>1010.423096</td>\n      <td>384.000000</td>\n      <td>435.091095</td>\n      <td>0.766564</td>\n    </tr>\n    <tr>\n      <th>265</th>\n      <td>265</td>\n      <td>315</td>\n      <td>computer</td>\n      <td>0.609026</td>\n      <td>595.025696</td>\n      <td>166.069763</td>\n      <td>673.849182</td>\n      <td>259.790863</td>\n      <td>horse</td>\n      <td>0.5</td>\n      <td>596.000000</td>\n      <td>665.000000</td>\n      <td>183.000000</td>\n      <td>259.790863</td>\n      <td>0.720194</td>\n    </tr>\n    <tr>\n      <th>273</th>\n      <td>273</td>\n      <td>323</td>\n      <td>tiger</td>\n      <td>0.666961</td>\n      <td>767.486938</td>\n      <td>417.130493</td>\n      <td>829.529785</td>\n      <td>501.616821</td>\n      <td>alien</td>\n      <td>0.5</td>\n      <td>767.486938</td>\n      <td>813.000000</td>\n      <td>423.000000</td>\n      <td>501.616821</td>\n      <td>0.687143</td>\n    </tr>\n    <tr>\n      <th>286</th>\n      <td>286</td>\n      <td>346</td>\n      <td>alien</td>\n      <td>0.765803</td>\n      <td>1114.242798</td>\n      <td>615.504517</td>\n      <td>1244.049683</td>\n      <td>679.439453</td>\n      <td>baseball</td>\n      <td>0.5</td>\n      <td>1114.242798</td>\n      <td>1238.000000</td>\n      <td>615.504517</td>\n      <td>676.000000</td>\n      <td>0.903233</td>\n    </tr>\n    <tr>\n      <th>312</th>\n      <td>312</td>\n      <td>375</td>\n      <td>horse</td>\n      <td>0.629665</td>\n      <td>635.105286</td>\n      <td>321.977448</td>\n      <td>749.724060</td>\n      <td>456.255829</td>\n      <td>computer</td>\n      <td>0.5</td>\n      <td>639.000000</td>\n      <td>742.000000</td>\n      <td>333.000000</td>\n      <td>456.000000</td>\n      <td>0.824514</td>\n    </tr>\n    <tr>\n      <th>316</th>\n      <td>316</td>\n      <td>379</td>\n      <td>tiger</td>\n      <td>0.692075</td>\n      <td>605.043884</td>\n      <td>487.142731</td>\n      <td>728.328796</td>\n      <td>565.133484</td>\n      <td>computer</td>\n      <td>0.5</td>\n      <td>605.043884</td>\n      <td>728.328796</td>\n      <td>499.000000</td>\n      <td>565.133484</td>\n      <td>0.849890</td>\n    </tr>\n    <tr>\n      <th>329</th>\n      <td>329</td>\n      <td>397</td>\n      <td>moon</td>\n      <td>0.581419</td>\n      <td>1000.726929</td>\n      <td>637.044983</td>\n      <td>1077.149292</td>\n      <td>782.794983</td>\n      <td>alien</td>\n      <td>0.5</td>\n      <td>1000.726929</td>\n      <td>1077.149292</td>\n      <td>654.000000</td>\n      <td>765.000000</td>\n      <td>0.763203</td>\n    </tr>\n    <tr>\n      <th>356</th>\n      <td>356</td>\n      <td>426</td>\n      <td>tiger</td>\n      <td>0.967835</td>\n      <td>545.048340</td>\n      <td>507.668671</td>\n      <td>689.135986</td>\n      <td>596.554199</td>\n      <td>computer</td>\n      <td>0.5</td>\n      <td>547.000000</td>\n      <td>680.000000</td>\n      <td>514.000000</td>\n      <td>588.000000</td>\n      <td>0.770630</td>\n    </tr>\n    <tr>\n      <th>360</th>\n      <td>360</td>\n      <td>432</td>\n      <td>alien</td>\n      <td>0.874486</td>\n      <td>949.312317</td>\n      <td>718.991089</td>\n      <td>1019.356506</td>\n      <td>825.771362</td>\n      <td>tiger</td>\n      <td>0.5</td>\n      <td>959.000000</td>\n      <td>1017.000000</td>\n      <td>718.991089</td>\n      <td>825.771362</td>\n      <td>0.830469</td>\n    </tr>\n    <tr>\n      <th>491</th>\n      <td>491</td>\n      <td>582</td>\n      <td>baseball</td>\n      <td>0.965814</td>\n      <td>550.423828</td>\n      <td>638.459229</td>\n      <td>624.782593</td>\n      <td>710.494019</td>\n      <td>alien</td>\n      <td>0.5</td>\n      <td>555.000000</td>\n      <td>614.000000</td>\n      <td>638.459229</td>\n      <td>708.000000</td>\n      <td>0.769003</td>\n    </tr>\n    <tr>\n      <th>852</th>\n      <td>852</td>\n      <td>1035</td>\n      <td>baseball</td>\n      <td>0.994803</td>\n      <td>974.124146</td>\n      <td>494.307281</td>\n      <td>1113.904175</td>\n      <td>572.888123</td>\n      <td>computer</td>\n      <td>0.5</td>\n      <td>990.000000</td>\n      <td>1093.000000</td>\n      <td>513.000000</td>\n      <td>572.888123</td>\n      <td>0.565218</td>\n    </tr>\n    <tr>\n      <th>883</th>\n      <td>883</td>\n      <td>1073</td>\n      <td>elevator</td>\n      <td>0.879225</td>\n      <td>1248.954956</td>\n      <td>920.498779</td>\n      <td>1513.672485</td>\n      <td>1079.000000</td>\n      <td>baseball</td>\n      <td>0.5</td>\n      <td>1276.000000</td>\n      <td>1508.000000</td>\n      <td>937.000000</td>\n      <td>1059.000000</td>\n      <td>0.676203</td>\n    </tr>\n    <tr>\n      <th>917</th>\n      <td>917</td>\n      <td>1114</td>\n      <td>elevator</td>\n      <td>0.672658</td>\n      <td>954.573975</td>\n      <td>178.296127</td>\n      <td>1214.573486</td>\n      <td>324.786255</td>\n      <td>moon</td>\n      <td>0.5</td>\n      <td>974.000000</td>\n      <td>1208.000000</td>\n      <td>187.000000</td>\n      <td>315.000000</td>\n      <td>0.787508</td>\n    </tr>\n    <tr>\n      <th>928</th>\n      <td>928</td>\n      <td>1125</td>\n      <td>moon</td>\n      <td>0.520782</td>\n      <td>938.009521</td>\n      <td>200.129242</td>\n      <td>1003.179688</td>\n      <td>446.960663</td>\n      <td>boat</td>\n      <td>0.5</td>\n      <td>947.000000</td>\n      <td>1003.179688</td>\n      <td>202.000000</td>\n      <td>446.960663</td>\n      <td>0.857608</td>\n    </tr>\n    <tr>\n      <th>940</th>\n      <td>940</td>\n      <td>1137</td>\n      <td>boat</td>\n      <td>0.869159</td>\n      <td>726.277466</td>\n      <td>170.995178</td>\n      <td>972.819336</td>\n      <td>313.494476</td>\n      <td>lemon</td>\n      <td>0.5</td>\n      <td>730.000000</td>\n      <td>955.000000</td>\n      <td>194.000000</td>\n      <td>313.494476</td>\n      <td>0.766615</td>\n    </tr>\n    <tr>\n      <th>952</th>\n      <td>952</td>\n      <td>1149</td>\n      <td>lemon</td>\n      <td>0.839862</td>\n      <td>756.227173</td>\n      <td>59.284081</td>\n      <td>963.334961</td>\n      <td>220.245422</td>\n      <td>slenderman</td>\n      <td>0.5</td>\n      <td>756.227173</td>\n      <td>961.000000</td>\n      <td>59.284081</td>\n      <td>220.245422</td>\n      <td>0.988780</td>\n    </tr>\n    <tr>\n      <th>971</th>\n      <td>971</td>\n      <td>1170</td>\n      <td>slenderman</td>\n      <td>0.882847</td>\n      <td>907.422791</td>\n      <td>0.000000</td>\n      <td>983.512024</td>\n      <td>176.103912</td>\n      <td>puppy</td>\n      <td>0.5</td>\n      <td>907.422791</td>\n      <td>977.000000</td>\n      <td>0.000000</td>\n      <td>176.103912</td>\n      <td>0.915526</td>\n    </tr>\n    <tr>\n      <th>995</th>\n      <td>995</td>\n      <td>1194</td>\n      <td>moon</td>\n      <td>0.902523</td>\n      <td>990.402893</td>\n      <td>169.512711</td>\n      <td>1216.708984</td>\n      <td>309.091675</td>\n      <td>elevator</td>\n      <td>0.5</td>\n      <td>1001.000000</td>\n      <td>1216.708984</td>\n      <td>181.000000</td>\n      <td>309.000000</td>\n      <td>0.874853</td>\n    </tr>\n    <tr>\n      <th>1051</th>\n      <td>1051</td>\n      <td>1250</td>\n      <td>puppy</td>\n      <td>0.689858</td>\n      <td>904.619324</td>\n      <td>40.268578</td>\n      <td>981.569763</td>\n      <td>275.943359</td>\n      <td>slenderman</td>\n      <td>0.5</td>\n      <td>904.619324</td>\n      <td>974.000000</td>\n      <td>40.268578</td>\n      <td>275.943359</td>\n      <td>0.902890</td>\n    </tr>\n    <tr>\n      <th>1117</th>\n      <td>1117</td>\n      <td>1317</td>\n      <td>puppy</td>\n      <td>0.691572</td>\n      <td>774.364014</td>\n      <td>58.305603</td>\n      <td>938.571045</td>\n      <td>447.721436</td>\n      <td>slenderman</td>\n      <td>0.5</td>\n      <td>798.000000</td>\n      <td>894.000000</td>\n      <td>72.000000</td>\n      <td>426.000000</td>\n      <td>0.533881</td>\n    </tr>\n    <tr>\n      <th>1176</th>\n      <td>1176</td>\n      <td>1378</td>\n      <td>puppy</td>\n      <td>0.857470</td>\n      <td>819.028503</td>\n      <td>92.245789</td>\n      <td>930.935852</td>\n      <td>414.756500</td>\n      <td>slenderman</td>\n      <td>0.5</td>\n      <td>822.000000</td>\n      <td>928.000000</td>\n      <td>97.000000</td>\n      <td>414.756500</td>\n      <td>0.933753</td>\n    </tr>\n    <tr>\n      <th>1185</th>\n      <td>1185</td>\n      <td>1387</td>\n      <td>lemon</td>\n      <td>0.780385</td>\n      <td>556.611206</td>\n      <td>209.400360</td>\n      <td>873.208008</td>\n      <td>410.375580</td>\n      <td>slenderman</td>\n      <td>0.5</td>\n      <td>574.000000</td>\n      <td>870.000000</td>\n      <td>209.400360</td>\n      <td>410.375580</td>\n      <td>0.935148</td>\n    </tr>\n    <tr>\n      <th>1194</th>\n      <td>1194</td>\n      <td>1396</td>\n      <td>lemon</td>\n      <td>0.740270</td>\n      <td>584.871643</td>\n      <td>385.549927</td>\n      <td>890.910217</td>\n      <td>544.116943</td>\n      <td>boat</td>\n      <td>0.5</td>\n      <td>584.871643</td>\n      <td>876.000000</td>\n      <td>392.000000</td>\n      <td>544.116943</td>\n      <td>0.912979</td>\n    </tr>\n    <tr>\n      <th>1231</th>\n      <td>1231</td>\n      <td>1433</td>\n      <td>puppy</td>\n      <td>0.974355</td>\n      <td>848.979126</td>\n      <td>358.056885</td>\n      <td>1336.286011</td>\n      <td>622.402649</td>\n      <td>elevator</td>\n      <td>0.5</td>\n      <td>889.000000</td>\n      <td>1324.000000</td>\n      <td>358.056885</td>\n      <td>618.000000</td>\n      <td>0.878066</td>\n    </tr>\n    <tr>\n      <th>1286</th>\n      <td>1286</td>\n      <td>1489</td>\n      <td>moon</td>\n      <td>0.953277</td>\n      <td>880.892029</td>\n      <td>515.717468</td>\n      <td>1310.932129</td>\n      <td>773.242615</td>\n      <td>elevator</td>\n      <td>0.5</td>\n      <td>880.892029</td>\n      <td>1297.000000</td>\n      <td>518.000000</td>\n      <td>772.000000</td>\n      <td>0.954483</td>\n    </tr>\n    <tr>\n      <th>1678</th>\n      <td>1678</td>\n      <td>2874</td>\n      <td>gun</td>\n      <td>0.985259</td>\n      <td>1022.407898</td>\n      <td>83.470787</td>\n      <td>1050.799072</td>\n      <td>127.238503</td>\n      <td>horse</td>\n      <td>0.5</td>\n      <td>1022.407898</td>\n      <td>1043.000000</td>\n      <td>87.000000</td>\n      <td>121.000000</td>\n      <td>0.574356</td>\n    </tr>\n    <tr>\n      <th>1698</th>\n      <td>1698</td>\n      <td>2894</td>\n      <td>computer</td>\n      <td>0.796891</td>\n      <td>927.356140</td>\n      <td>148.841232</td>\n      <td>964.150208</td>\n      <td>188.475632</td>\n      <td>horse</td>\n      <td>0.5</td>\n      <td>935.000000</td>\n      <td>964.150208</td>\n      <td>148.841232</td>\n      <td>181.000000</td>\n      <td>0.650985</td>\n    </tr>\n    <tr>\n      <th>1805</th>\n      <td>1805</td>\n      <td>3001</td>\n      <td>baseball</td>\n      <td>0.746443</td>\n      <td>1104.634766</td>\n      <td>156.884705</td>\n      <td>1141.114502</td>\n      <td>197.980164</td>\n      <td>gun</td>\n      <td>0.5</td>\n      <td>1109.000000</td>\n      <td>1136.000000</td>\n      <td>166.000000</td>\n      <td>197.980164</td>\n      <td>0.585301</td>\n    </tr>\n    <tr>\n      <th>1875</th>\n      <td>1875</td>\n      <td>3071</td>\n      <td>computer</td>\n      <td>0.834597</td>\n      <td>905.193909</td>\n      <td>235.313095</td>\n      <td>951.483337</td>\n      <td>260.531372</td>\n      <td>tiger</td>\n      <td>0.5</td>\n      <td>913.000000</td>\n      <td>951.483337</td>\n      <td>235.313095</td>\n      <td>256.000000</td>\n      <td>0.690626</td>\n    </tr>\n    <tr>\n      <th>1977</th>\n      <td>1977</td>\n      <td>3174</td>\n      <td>baseball</td>\n      <td>0.701035</td>\n      <td>1029.007202</td>\n      <td>191.041504</td>\n      <td>1067.120728</td>\n      <td>237.491791</td>\n      <td>gun</td>\n      <td>0.5</td>\n      <td>1037.000000</td>\n      <td>1067.120728</td>\n      <td>199.000000</td>\n      <td>228.000000</td>\n      <td>0.503043</td>\n    </tr>\n    <tr>\n      <th>2004</th>\n      <td>2004</td>\n      <td>3201</td>\n      <td>horse</td>\n      <td>0.920982</td>\n      <td>921.459045</td>\n      <td>155.589737</td>\n      <td>952.237000</td>\n      <td>195.257523</td>\n      <td>gun</td>\n      <td>0.5</td>\n      <td>930.000000</td>\n      <td>952.237000</td>\n      <td>155.589737</td>\n      <td>191.000000</td>\n      <td>0.654677</td>\n    </tr>\n    <tr>\n      <th>2025</th>\n      <td>2025</td>\n      <td>3222</td>\n      <td>horse</td>\n      <td>0.944998</td>\n      <td>847.994873</td>\n      <td>205.337173</td>\n      <td>892.567627</td>\n      <td>263.618713</td>\n      <td>computer</td>\n      <td>0.5</td>\n      <td>849.000000</td>\n      <td>887.000000</td>\n      <td>205.337173</td>\n      <td>249.000000</td>\n      <td>0.644742</td>\n    </tr>\n    <tr>\n      <th>2111</th>\n      <td>2111</td>\n      <td>3310</td>\n      <td>baseball</td>\n      <td>0.843089</td>\n      <td>1060.609375</td>\n      <td>230.498093</td>\n      <td>1105.789795</td>\n      <td>280.755310</td>\n      <td>gun</td>\n      <td>0.5</td>\n      <td>1068.000000</td>\n      <td>1104.000000</td>\n      <td>230.498093</td>\n      <td>274.000000</td>\n      <td>0.695613</td>\n    </tr>\n  </tbody>\n</table>\n</div>"
     },
     "metadata": {},
     "execution_count": 39
    }
   ],
   "source": [
    "df_fp"
   ]
  },
  {
   "cell_type": "code",
   "execution_count": 28,
   "metadata": {},
   "outputs": [],
   "source": [
    "df_fn = df[(df['Score'] < df['Threshold']) & (df['GT Label'].notna()) ] # we use notna() to remove the rows without any GT anno in them"
   ]
  },
  {
   "cell_type": "code",
   "execution_count": 29,
   "metadata": {},
   "outputs": [
    {
     "output_type": "execute_result",
     "data": {
      "text/plain": [
       "      Record  Image Frame ID     Label     Score           x1          y1  \\\n",
       "57        57              70  computer  0.466388   787.439270   66.531349   \n",
       "188      188             224      moon  0.148311   779.382812  408.943176   \n",
       "189      189             226     alien  0.276290   827.821960  463.216309   \n",
       "209      209             246  baseball  0.215476   874.160156  103.797798   \n",
       "255      255             301       gun  0.138319   816.500610   80.625900   \n",
       "452      452             542     lemon  0.322706   979.178040  578.542419   \n",
       "635      635             755  baseball  0.315499   955.829285  884.178467   \n",
       "644      644             775  computer  0.459383  1662.410034  465.422729   \n",
       "646      646             777  computer  0.405028  1681.755127  447.652679   \n",
       "663      663             794  computer  0.246018  1580.822632  429.443573   \n",
       "664      664             795  computer  0.443495  1567.399048  443.698975   \n",
       "665      665             796  baseball  0.159944   956.987366  886.038086   \n",
       "666      666             801  baseball  0.269517   952.585510  886.494568   \n",
       "668      668             803  baseball  0.180417   959.255310  883.353027   \n",
       "670      670             805  baseball  0.272864   957.507324  883.564941   \n",
       "705      705             851  baseball  0.134776   950.616577  885.846802   \n",
       "1272    1272            1475      moon  0.435524   833.241821  612.231934   \n",
       "1278    1278            1481      moon  0.124702   896.394409  546.205688   \n",
       "1338    1338            1541      boat  0.461412   820.588745  556.860046   \n",
       "1339    1339            1542     puppy  0.374327   851.320374  591.741760   \n",
       "1340    1340            1543     puppy  0.421940   875.780396  590.224121   \n",
       "1575    1575            2771     lemon  0.147850  1535.068970  844.528564   \n",
       "1576    1576            2772     lemon  0.109490  1537.656494  845.371033   \n",
       "1578    1578            2774     lemon  0.265537  1555.982910  846.044861   \n",
       "1581    1581            2777     lemon  0.363380  1551.036133  845.646362   \n",
       "1582    1582            2778     lemon  0.387982  1552.699341  844.689636   \n",
       "1583    1583            2779     lemon  0.341952  1551.770630  847.113464   \n",
       "1938    1938            3134     lemon  0.368935  1561.849121  843.288330   \n",
       "2010    2010            3207     lemon  0.485730  1555.550903  846.325073   \n",
       "2045    2045            3242     tiger  0.473388   846.541687  348.424164   \n",
       "2058    2058            3256     lemon  0.227018  1550.760010  844.145569   \n",
       "2059    2059            3257     lemon  0.393733  1549.630859  844.606689   \n",
       "2060    2060            3258     lemon  0.309573  1551.822998  842.686218   \n",
       "2061    2061            3259     lemon  0.419993  1555.279419  838.239990   \n",
       "2062    2062            3260     lemon  0.410317  1550.475952  843.138855   \n",
       "2096    2096            3295     lemon  0.345798  1552.500610  839.741699   \n",
       "2130    2130            3329     lemon  0.491377  1547.670654  844.210205   \n",
       "2145    2145            3344     lemon  0.416887  1551.830566  845.435181   \n",
       "2146    2146            3345     lemon  0.295948  1551.530762  843.952393   \n",
       "2148    2148            3347     lemon  0.366233  1555.308105  842.318237   \n",
       "2149    2149            3348     lemon  0.262943  1553.600586  841.862122   \n",
       "2150    2150            3349     horse  0.474786   897.951660  152.409775   \n",
       "2166    2166            3365     lemon  0.410297  1553.046631  843.591553   \n",
       "2174    2174            3373     lemon  0.252171  1535.076660  842.257568   \n",
       "\n",
       "               x2           y2  GT Label  Threshold         GTx1         GTx2  \\\n",
       "57     847.361755   127.677879  computer        0.5   789.000000   847.361755   \n",
       "188    864.128174   568.059509     tiger        0.5   790.000000   858.000000   \n",
       "189    903.403625   552.438721     alien        0.5   841.000000   898.000000   \n",
       "209    952.958618   248.516235       gun        0.5   874.160156   924.000000   \n",
       "255    878.472534   198.926743       gun        0.5   819.000000   874.000000   \n",
       "452   1234.541138   675.739929  computer        0.5  1126.000000  1234.541138   \n",
       "635   1116.269775   965.256104  computer        0.5  1390.000000  1116.269775   \n",
       "644   1701.128296   497.331055  computer        0.5  1662.410034  1695.000000   \n",
       "646   1719.890381   479.155182  computer        0.5  1681.755127  1715.000000   \n",
       "663   1623.353882   455.407013  computer        0.5  1580.822632  1615.000000   \n",
       "664   1606.983765   473.084351  computer        0.5  1567.399048  1603.000000   \n",
       "665   1116.715820   962.922729  computer        0.5  1556.000000  1116.715820   \n",
       "666   1117.786621   965.124695  computer        0.5  1499.000000  1117.786621   \n",
       "668   1119.410400   963.072632  computer        0.5  1463.000000  1119.410400   \n",
       "670   1114.400146   962.575073  computer        0.5  1423.000000  1114.400146   \n",
       "705   1115.206177   955.402222  computer        0.5   950.616577   847.000000   \n",
       "1272   933.708862   982.010498      boat        0.5   833.241821   933.708862   \n",
       "1278  1008.382568  1061.014771      boat        0.5   896.394409  1008.382568   \n",
       "1338   973.225708   992.830017      boat        0.5   820.588745   968.000000   \n",
       "1339   988.647156   944.568787      boat        0.5   851.320374   979.000000   \n",
       "1340   996.498657   943.776733      boat        0.5   875.780396   996.498657   \n",
       "1575  1710.985474   908.845825     tiger        0.5  1535.068970  1036.000000   \n",
       "1576  1713.892578   912.304993     alien        0.5  1537.656494  1036.000000   \n",
       "1578  1710.136719   913.330505     tiger        0.5  1555.982910  1041.000000   \n",
       "1581  1706.123047   914.145142     tiger        0.5  1551.036133  1050.000000   \n",
       "1582  1704.813599   918.300964     alien        0.5  1552.699341  1053.000000   \n",
       "1583  1707.202515   918.313293     alien        0.5  1551.770630  1052.000000   \n",
       "1938  1713.917969   909.707031     tiger        0.5  1561.849121   983.000000   \n",
       "2010  1708.094360   920.146606     horse        0.5  1555.550903   941.000000   \n",
       "2045   915.718689   403.314423     tiger        0.5   857.000000   900.000000   \n",
       "2058  1711.269043   911.711243     alien        0.5  1550.760010   954.000000   \n",
       "2059  1707.323242   915.578491     alien        0.5  1549.630859   957.000000   \n",
       "2060  1710.975830   913.907410     alien        0.5  1551.822998   960.000000   \n",
       "2061  1706.317017   916.065796     tiger        0.5  1555.279419   962.000000   \n",
       "2062  1709.342407   914.884338     tiger        0.5  1550.475952   966.000000   \n",
       "2096  1706.275757   910.484985  baseball        0.5  1552.500610  1099.000000   \n",
       "2130  1715.756348   924.449585       gun        0.5  1547.670654  1033.000000   \n",
       "2145  1708.881104   917.482788     horse        0.5  1551.830566   962.000000   \n",
       "2146  1711.368896   918.549683     horse        0.5  1551.530762   954.000000   \n",
       "2148  1706.568359   916.627197     horse        0.5  1555.308105   945.000000   \n",
       "2149  1706.049316   915.551819     horse        0.5  1553.600586   941.000000   \n",
       "2150   942.885010   209.423508     horse        0.5   905.000000   937.000000   \n",
       "2166  1710.319336   917.946411     tiger        0.5  1553.046631   887.000000   \n",
       "2174  1722.895752   921.577881     alien        0.5  1535.076660   933.000000   \n",
       "\n",
       "            GTy1         GTy2       IoU  \n",
       "57     73.000000   127.677879  0.872961  \n",
       "188   467.000000   557.000000  0.457345  \n",
       "189   466.000000   550.000000  0.713523  \n",
       "209   112.000000   209.000000  0.428471  \n",
       "255    97.000000   187.000000  0.678327  \n",
       "452   601.000000   675.739929  0.329569  \n",
       "635   884.178467   526.000000  0.000000  \n",
       "644   465.422729   479.000000  0.374619  \n",
       "646   454.000000   479.000000  0.699977  \n",
       "663   445.000000   455.407013  0.341868  \n",
       "664   445.000000   468.000000  0.712322  \n",
       "665   886.038086   467.000000  0.000000  \n",
       "666   886.494568   482.000000  0.000000  \n",
       "668   883.353027   494.000000  0.000000  \n",
       "670   883.564941   490.000000  0.000000  \n",
       "705   885.846802   479.000000  0.000000  \n",
       "1272  613.000000   982.010498  0.997929  \n",
       "1278  578.000000  1023.000000  0.864661  \n",
       "1338  587.000000   992.830017  0.899358  \n",
       "1339  591.741760   944.568787  0.930258  \n",
       "1340  595.000000   943.776733  0.986530  \n",
       "1575  844.528564   322.000000  0.000000  \n",
       "1576  845.371033   322.000000  0.000000  \n",
       "1578  846.044861   329.000000  0.000000  \n",
       "1581  845.646362   327.000000  0.000000  \n",
       "1582  844.689636   326.000000  0.000000  \n",
       "1583  847.113464   322.000000  0.000000  \n",
       "1938  843.288330   427.000000  0.000000  \n",
       "2010  846.325073   193.000000  0.000000  \n",
       "2045  349.000000   385.000000  0.415072  \n",
       "2058  844.145569   433.000000  0.000000  \n",
       "2059  844.606689   433.000000  0.000000  \n",
       "2060  842.686218   434.000000  0.000000  \n",
       "2061  838.239990   433.000000  0.000000  \n",
       "2062  843.138855   434.000000  0.000000  \n",
       "2096  839.741699   354.000000  0.000000  \n",
       "2130  844.210205   195.000000  0.000000  \n",
       "2145  845.435181   188.000000  0.000000  \n",
       "2146  843.952393   190.000000  0.000000  \n",
       "2148  842.318237   193.000000  0.000000  \n",
       "2149  841.862122   198.000000  0.000000  \n",
       "2150  152.409775   202.000000  0.626501  \n",
       "2166  843.591553   385.000000  0.000000  \n",
       "2174  842.257568   423.000000  0.000000  "
      ],
      "text/html": "<div>\n<style scoped>\n    .dataframe tbody tr th:only-of-type {\n        vertical-align: middle;\n    }\n\n    .dataframe tbody tr th {\n        vertical-align: top;\n    }\n\n    .dataframe thead th {\n        text-align: right;\n    }\n</style>\n<table border=\"1\" class=\"dataframe\">\n  <thead>\n    <tr style=\"text-align: right;\">\n      <th></th>\n      <th>Record</th>\n      <th>Image Frame ID</th>\n      <th>Label</th>\n      <th>Score</th>\n      <th>x1</th>\n      <th>y1</th>\n      <th>x2</th>\n      <th>y2</th>\n      <th>GT Label</th>\n      <th>Threshold</th>\n      <th>GTx1</th>\n      <th>GTx2</th>\n      <th>GTy1</th>\n      <th>GTy2</th>\n      <th>IoU</th>\n    </tr>\n  </thead>\n  <tbody>\n    <tr>\n      <th>57</th>\n      <td>57</td>\n      <td>70</td>\n      <td>computer</td>\n      <td>0.466388</td>\n      <td>787.439270</td>\n      <td>66.531349</td>\n      <td>847.361755</td>\n      <td>127.677879</td>\n      <td>computer</td>\n      <td>0.5</td>\n      <td>789.000000</td>\n      <td>847.361755</td>\n      <td>73.000000</td>\n      <td>127.677879</td>\n      <td>0.872961</td>\n    </tr>\n    <tr>\n      <th>188</th>\n      <td>188</td>\n      <td>224</td>\n      <td>moon</td>\n      <td>0.148311</td>\n      <td>779.382812</td>\n      <td>408.943176</td>\n      <td>864.128174</td>\n      <td>568.059509</td>\n      <td>tiger</td>\n      <td>0.5</td>\n      <td>790.000000</td>\n      <td>858.000000</td>\n      <td>467.000000</td>\n      <td>557.000000</td>\n      <td>0.457345</td>\n    </tr>\n    <tr>\n      <th>189</th>\n      <td>189</td>\n      <td>226</td>\n      <td>alien</td>\n      <td>0.276290</td>\n      <td>827.821960</td>\n      <td>463.216309</td>\n      <td>903.403625</td>\n      <td>552.438721</td>\n      <td>alien</td>\n      <td>0.5</td>\n      <td>841.000000</td>\n      <td>898.000000</td>\n      <td>466.000000</td>\n      <td>550.000000</td>\n      <td>0.713523</td>\n    </tr>\n    <tr>\n      <th>209</th>\n      <td>209</td>\n      <td>246</td>\n      <td>baseball</td>\n      <td>0.215476</td>\n      <td>874.160156</td>\n      <td>103.797798</td>\n      <td>952.958618</td>\n      <td>248.516235</td>\n      <td>gun</td>\n      <td>0.5</td>\n      <td>874.160156</td>\n      <td>924.000000</td>\n      <td>112.000000</td>\n      <td>209.000000</td>\n      <td>0.428471</td>\n    </tr>\n    <tr>\n      <th>255</th>\n      <td>255</td>\n      <td>301</td>\n      <td>gun</td>\n      <td>0.138319</td>\n      <td>816.500610</td>\n      <td>80.625900</td>\n      <td>878.472534</td>\n      <td>198.926743</td>\n      <td>gun</td>\n      <td>0.5</td>\n      <td>819.000000</td>\n      <td>874.000000</td>\n      <td>97.000000</td>\n      <td>187.000000</td>\n      <td>0.678327</td>\n    </tr>\n    <tr>\n      <th>452</th>\n      <td>452</td>\n      <td>542</td>\n      <td>lemon</td>\n      <td>0.322706</td>\n      <td>979.178040</td>\n      <td>578.542419</td>\n      <td>1234.541138</td>\n      <td>675.739929</td>\n      <td>computer</td>\n      <td>0.5</td>\n      <td>1126.000000</td>\n      <td>1234.541138</td>\n      <td>601.000000</td>\n      <td>675.739929</td>\n      <td>0.329569</td>\n    </tr>\n    <tr>\n      <th>635</th>\n      <td>635</td>\n      <td>755</td>\n      <td>baseball</td>\n      <td>0.315499</td>\n      <td>955.829285</td>\n      <td>884.178467</td>\n      <td>1116.269775</td>\n      <td>965.256104</td>\n      <td>computer</td>\n      <td>0.5</td>\n      <td>1390.000000</td>\n      <td>1116.269775</td>\n      <td>884.178467</td>\n      <td>526.000000</td>\n      <td>0.000000</td>\n    </tr>\n    <tr>\n      <th>644</th>\n      <td>644</td>\n      <td>775</td>\n      <td>computer</td>\n      <td>0.459383</td>\n      <td>1662.410034</td>\n      <td>465.422729</td>\n      <td>1701.128296</td>\n      <td>497.331055</td>\n      <td>computer</td>\n      <td>0.5</td>\n      <td>1662.410034</td>\n      <td>1695.000000</td>\n      <td>465.422729</td>\n      <td>479.000000</td>\n      <td>0.374619</td>\n    </tr>\n    <tr>\n      <th>646</th>\n      <td>646</td>\n      <td>777</td>\n      <td>computer</td>\n      <td>0.405028</td>\n      <td>1681.755127</td>\n      <td>447.652679</td>\n      <td>1719.890381</td>\n      <td>479.155182</td>\n      <td>computer</td>\n      <td>0.5</td>\n      <td>1681.755127</td>\n      <td>1715.000000</td>\n      <td>454.000000</td>\n      <td>479.000000</td>\n      <td>0.699977</td>\n    </tr>\n    <tr>\n      <th>663</th>\n      <td>663</td>\n      <td>794</td>\n      <td>computer</td>\n      <td>0.246018</td>\n      <td>1580.822632</td>\n      <td>429.443573</td>\n      <td>1623.353882</td>\n      <td>455.407013</td>\n      <td>computer</td>\n      <td>0.5</td>\n      <td>1580.822632</td>\n      <td>1615.000000</td>\n      <td>445.000000</td>\n      <td>455.407013</td>\n      <td>0.341868</td>\n    </tr>\n    <tr>\n      <th>664</th>\n      <td>664</td>\n      <td>795</td>\n      <td>computer</td>\n      <td>0.443495</td>\n      <td>1567.399048</td>\n      <td>443.698975</td>\n      <td>1606.983765</td>\n      <td>473.084351</td>\n      <td>computer</td>\n      <td>0.5</td>\n      <td>1567.399048</td>\n      <td>1603.000000</td>\n      <td>445.000000</td>\n      <td>468.000000</td>\n      <td>0.712322</td>\n    </tr>\n    <tr>\n      <th>665</th>\n      <td>665</td>\n      <td>796</td>\n      <td>baseball</td>\n      <td>0.159944</td>\n      <td>956.987366</td>\n      <td>886.038086</td>\n      <td>1116.715820</td>\n      <td>962.922729</td>\n      <td>computer</td>\n      <td>0.5</td>\n      <td>1556.000000</td>\n      <td>1116.715820</td>\n      <td>886.038086</td>\n      <td>467.000000</td>\n      <td>0.000000</td>\n    </tr>\n    <tr>\n      <th>666</th>\n      <td>666</td>\n      <td>801</td>\n      <td>baseball</td>\n      <td>0.269517</td>\n      <td>952.585510</td>\n      <td>886.494568</td>\n      <td>1117.786621</td>\n      <td>965.124695</td>\n      <td>computer</td>\n      <td>0.5</td>\n      <td>1499.000000</td>\n      <td>1117.786621</td>\n      <td>886.494568</td>\n      <td>482.000000</td>\n      <td>0.000000</td>\n    </tr>\n    <tr>\n      <th>668</th>\n      <td>668</td>\n      <td>803</td>\n      <td>baseball</td>\n      <td>0.180417</td>\n      <td>959.255310</td>\n      <td>883.353027</td>\n      <td>1119.410400</td>\n      <td>963.072632</td>\n      <td>computer</td>\n      <td>0.5</td>\n      <td>1463.000000</td>\n      <td>1119.410400</td>\n      <td>883.353027</td>\n      <td>494.000000</td>\n      <td>0.000000</td>\n    </tr>\n    <tr>\n      <th>670</th>\n      <td>670</td>\n      <td>805</td>\n      <td>baseball</td>\n      <td>0.272864</td>\n      <td>957.507324</td>\n      <td>883.564941</td>\n      <td>1114.400146</td>\n      <td>962.575073</td>\n      <td>computer</td>\n      <td>0.5</td>\n      <td>1423.000000</td>\n      <td>1114.400146</td>\n      <td>883.564941</td>\n      <td>490.000000</td>\n      <td>0.000000</td>\n    </tr>\n    <tr>\n      <th>705</th>\n      <td>705</td>\n      <td>851</td>\n      <td>baseball</td>\n      <td>0.134776</td>\n      <td>950.616577</td>\n      <td>885.846802</td>\n      <td>1115.206177</td>\n      <td>955.402222</td>\n      <td>computer</td>\n      <td>0.5</td>\n      <td>950.616577</td>\n      <td>847.000000</td>\n      <td>885.846802</td>\n      <td>479.000000</td>\n      <td>0.000000</td>\n    </tr>\n    <tr>\n      <th>1272</th>\n      <td>1272</td>\n      <td>1475</td>\n      <td>moon</td>\n      <td>0.435524</td>\n      <td>833.241821</td>\n      <td>612.231934</td>\n      <td>933.708862</td>\n      <td>982.010498</td>\n      <td>boat</td>\n      <td>0.5</td>\n      <td>833.241821</td>\n      <td>933.708862</td>\n      <td>613.000000</td>\n      <td>982.010498</td>\n      <td>0.997929</td>\n    </tr>\n    <tr>\n      <th>1278</th>\n      <td>1278</td>\n      <td>1481</td>\n      <td>moon</td>\n      <td>0.124702</td>\n      <td>896.394409</td>\n      <td>546.205688</td>\n      <td>1008.382568</td>\n      <td>1061.014771</td>\n      <td>boat</td>\n      <td>0.5</td>\n      <td>896.394409</td>\n      <td>1008.382568</td>\n      <td>578.000000</td>\n      <td>1023.000000</td>\n      <td>0.864661</td>\n    </tr>\n    <tr>\n      <th>1338</th>\n      <td>1338</td>\n      <td>1541</td>\n      <td>boat</td>\n      <td>0.461412</td>\n      <td>820.588745</td>\n      <td>556.860046</td>\n      <td>973.225708</td>\n      <td>992.830017</td>\n      <td>boat</td>\n      <td>0.5</td>\n      <td>820.588745</td>\n      <td>968.000000</td>\n      <td>587.000000</td>\n      <td>992.830017</td>\n      <td>0.899358</td>\n    </tr>\n    <tr>\n      <th>1339</th>\n      <td>1339</td>\n      <td>1542</td>\n      <td>puppy</td>\n      <td>0.374327</td>\n      <td>851.320374</td>\n      <td>591.741760</td>\n      <td>988.647156</td>\n      <td>944.568787</td>\n      <td>boat</td>\n      <td>0.5</td>\n      <td>851.320374</td>\n      <td>979.000000</td>\n      <td>591.741760</td>\n      <td>944.568787</td>\n      <td>0.930258</td>\n    </tr>\n    <tr>\n      <th>1340</th>\n      <td>1340</td>\n      <td>1543</td>\n      <td>puppy</td>\n      <td>0.421940</td>\n      <td>875.780396</td>\n      <td>590.224121</td>\n      <td>996.498657</td>\n      <td>943.776733</td>\n      <td>boat</td>\n      <td>0.5</td>\n      <td>875.780396</td>\n      <td>996.498657</td>\n      <td>595.000000</td>\n      <td>943.776733</td>\n      <td>0.986530</td>\n    </tr>\n    <tr>\n      <th>1575</th>\n      <td>1575</td>\n      <td>2771</td>\n      <td>lemon</td>\n      <td>0.147850</td>\n      <td>1535.068970</td>\n      <td>844.528564</td>\n      <td>1710.985474</td>\n      <td>908.845825</td>\n      <td>tiger</td>\n      <td>0.5</td>\n      <td>1535.068970</td>\n      <td>1036.000000</td>\n      <td>844.528564</td>\n      <td>322.000000</td>\n      <td>0.000000</td>\n    </tr>\n    <tr>\n      <th>1576</th>\n      <td>1576</td>\n      <td>2772</td>\n      <td>lemon</td>\n      <td>0.109490</td>\n      <td>1537.656494</td>\n      <td>845.371033</td>\n      <td>1713.892578</td>\n      <td>912.304993</td>\n      <td>alien</td>\n      <td>0.5</td>\n      <td>1537.656494</td>\n      <td>1036.000000</td>\n      <td>845.371033</td>\n      <td>322.000000</td>\n      <td>0.000000</td>\n    </tr>\n    <tr>\n      <th>1578</th>\n      <td>1578</td>\n      <td>2774</td>\n      <td>lemon</td>\n      <td>0.265537</td>\n      <td>1555.982910</td>\n      <td>846.044861</td>\n      <td>1710.136719</td>\n      <td>913.330505</td>\n      <td>tiger</td>\n      <td>0.5</td>\n      <td>1555.982910</td>\n      <td>1041.000000</td>\n      <td>846.044861</td>\n      <td>329.000000</td>\n      <td>0.000000</td>\n    </tr>\n    <tr>\n      <th>1581</th>\n      <td>1581</td>\n      <td>2777</td>\n      <td>lemon</td>\n      <td>0.363380</td>\n      <td>1551.036133</td>\n      <td>845.646362</td>\n      <td>1706.123047</td>\n      <td>914.145142</td>\n      <td>tiger</td>\n      <td>0.5</td>\n      <td>1551.036133</td>\n      <td>1050.000000</td>\n      <td>845.646362</td>\n      <td>327.000000</td>\n      <td>0.000000</td>\n    </tr>\n    <tr>\n      <th>1582</th>\n      <td>1582</td>\n      <td>2778</td>\n      <td>lemon</td>\n      <td>0.387982</td>\n      <td>1552.699341</td>\n      <td>844.689636</td>\n      <td>1704.813599</td>\n      <td>918.300964</td>\n      <td>alien</td>\n      <td>0.5</td>\n      <td>1552.699341</td>\n      <td>1053.000000</td>\n      <td>844.689636</td>\n      <td>326.000000</td>\n      <td>0.000000</td>\n    </tr>\n    <tr>\n      <th>1583</th>\n      <td>1583</td>\n      <td>2779</td>\n      <td>lemon</td>\n      <td>0.341952</td>\n      <td>1551.770630</td>\n      <td>847.113464</td>\n      <td>1707.202515</td>\n      <td>918.313293</td>\n      <td>alien</td>\n      <td>0.5</td>\n      <td>1551.770630</td>\n      <td>1052.000000</td>\n      <td>847.113464</td>\n      <td>322.000000</td>\n      <td>0.000000</td>\n    </tr>\n    <tr>\n      <th>1938</th>\n      <td>1938</td>\n      <td>3134</td>\n      <td>lemon</td>\n      <td>0.368935</td>\n      <td>1561.849121</td>\n      <td>843.288330</td>\n      <td>1713.917969</td>\n      <td>909.707031</td>\n      <td>tiger</td>\n      <td>0.5</td>\n      <td>1561.849121</td>\n      <td>983.000000</td>\n      <td>843.288330</td>\n      <td>427.000000</td>\n      <td>0.000000</td>\n    </tr>\n    <tr>\n      <th>2010</th>\n      <td>2010</td>\n      <td>3207</td>\n      <td>lemon</td>\n      <td>0.485730</td>\n      <td>1555.550903</td>\n      <td>846.325073</td>\n      <td>1708.094360</td>\n      <td>920.146606</td>\n      <td>horse</td>\n      <td>0.5</td>\n      <td>1555.550903</td>\n      <td>941.000000</td>\n      <td>846.325073</td>\n      <td>193.000000</td>\n      <td>0.000000</td>\n    </tr>\n    <tr>\n      <th>2045</th>\n      <td>2045</td>\n      <td>3242</td>\n      <td>tiger</td>\n      <td>0.473388</td>\n      <td>846.541687</td>\n      <td>348.424164</td>\n      <td>915.718689</td>\n      <td>403.314423</td>\n      <td>tiger</td>\n      <td>0.5</td>\n      <td>857.000000</td>\n      <td>900.000000</td>\n      <td>349.000000</td>\n      <td>385.000000</td>\n      <td>0.415072</td>\n    </tr>\n    <tr>\n      <th>2058</th>\n      <td>2058</td>\n      <td>3256</td>\n      <td>lemon</td>\n      <td>0.227018</td>\n      <td>1550.760010</td>\n      <td>844.145569</td>\n      <td>1711.269043</td>\n      <td>911.711243</td>\n      <td>alien</td>\n      <td>0.5</td>\n      <td>1550.760010</td>\n      <td>954.000000</td>\n      <td>844.145569</td>\n      <td>433.000000</td>\n      <td>0.000000</td>\n    </tr>\n    <tr>\n      <th>2059</th>\n      <td>2059</td>\n      <td>3257</td>\n      <td>lemon</td>\n      <td>0.393733</td>\n      <td>1549.630859</td>\n      <td>844.606689</td>\n      <td>1707.323242</td>\n      <td>915.578491</td>\n      <td>alien</td>\n      <td>0.5</td>\n      <td>1549.630859</td>\n      <td>957.000000</td>\n      <td>844.606689</td>\n      <td>433.000000</td>\n      <td>0.000000</td>\n    </tr>\n    <tr>\n      <th>2060</th>\n      <td>2060</td>\n      <td>3258</td>\n      <td>lemon</td>\n      <td>0.309573</td>\n      <td>1551.822998</td>\n      <td>842.686218</td>\n      <td>1710.975830</td>\n      <td>913.907410</td>\n      <td>alien</td>\n      <td>0.5</td>\n      <td>1551.822998</td>\n      <td>960.000000</td>\n      <td>842.686218</td>\n      <td>434.000000</td>\n      <td>0.000000</td>\n    </tr>\n    <tr>\n      <th>2061</th>\n      <td>2061</td>\n      <td>3259</td>\n      <td>lemon</td>\n      <td>0.419993</td>\n      <td>1555.279419</td>\n      <td>838.239990</td>\n      <td>1706.317017</td>\n      <td>916.065796</td>\n      <td>tiger</td>\n      <td>0.5</td>\n      <td>1555.279419</td>\n      <td>962.000000</td>\n      <td>838.239990</td>\n      <td>433.000000</td>\n      <td>0.000000</td>\n    </tr>\n    <tr>\n      <th>2062</th>\n      <td>2062</td>\n      <td>3260</td>\n      <td>lemon</td>\n      <td>0.410317</td>\n      <td>1550.475952</td>\n      <td>843.138855</td>\n      <td>1709.342407</td>\n      <td>914.884338</td>\n      <td>tiger</td>\n      <td>0.5</td>\n      <td>1550.475952</td>\n      <td>966.000000</td>\n      <td>843.138855</td>\n      <td>434.000000</td>\n      <td>0.000000</td>\n    </tr>\n    <tr>\n      <th>2096</th>\n      <td>2096</td>\n      <td>3295</td>\n      <td>lemon</td>\n      <td>0.345798</td>\n      <td>1552.500610</td>\n      <td>839.741699</td>\n      <td>1706.275757</td>\n      <td>910.484985</td>\n      <td>baseball</td>\n      <td>0.5</td>\n      <td>1552.500610</td>\n      <td>1099.000000</td>\n      <td>839.741699</td>\n      <td>354.000000</td>\n      <td>0.000000</td>\n    </tr>\n    <tr>\n      <th>2130</th>\n      <td>2130</td>\n      <td>3329</td>\n      <td>lemon</td>\n      <td>0.491377</td>\n      <td>1547.670654</td>\n      <td>844.210205</td>\n      <td>1715.756348</td>\n      <td>924.449585</td>\n      <td>gun</td>\n      <td>0.5</td>\n      <td>1547.670654</td>\n      <td>1033.000000</td>\n      <td>844.210205</td>\n      <td>195.000000</td>\n      <td>0.000000</td>\n    </tr>\n    <tr>\n      <th>2145</th>\n      <td>2145</td>\n      <td>3344</td>\n      <td>lemon</td>\n      <td>0.416887</td>\n      <td>1551.830566</td>\n      <td>845.435181</td>\n      <td>1708.881104</td>\n      <td>917.482788</td>\n      <td>horse</td>\n      <td>0.5</td>\n      <td>1551.830566</td>\n      <td>962.000000</td>\n      <td>845.435181</td>\n      <td>188.000000</td>\n      <td>0.000000</td>\n    </tr>\n    <tr>\n      <th>2146</th>\n      <td>2146</td>\n      <td>3345</td>\n      <td>lemon</td>\n      <td>0.295948</td>\n      <td>1551.530762</td>\n      <td>843.952393</td>\n      <td>1711.368896</td>\n      <td>918.549683</td>\n      <td>horse</td>\n      <td>0.5</td>\n      <td>1551.530762</td>\n      <td>954.000000</td>\n      <td>843.952393</td>\n      <td>190.000000</td>\n      <td>0.000000</td>\n    </tr>\n    <tr>\n      <th>2148</th>\n      <td>2148</td>\n      <td>3347</td>\n      <td>lemon</td>\n      <td>0.366233</td>\n      <td>1555.308105</td>\n      <td>842.318237</td>\n      <td>1706.568359</td>\n      <td>916.627197</td>\n      <td>horse</td>\n      <td>0.5</td>\n      <td>1555.308105</td>\n      <td>945.000000</td>\n      <td>842.318237</td>\n      <td>193.000000</td>\n      <td>0.000000</td>\n    </tr>\n    <tr>\n      <th>2149</th>\n      <td>2149</td>\n      <td>3348</td>\n      <td>lemon</td>\n      <td>0.262943</td>\n      <td>1553.600586</td>\n      <td>841.862122</td>\n      <td>1706.049316</td>\n      <td>915.551819</td>\n      <td>horse</td>\n      <td>0.5</td>\n      <td>1553.600586</td>\n      <td>941.000000</td>\n      <td>841.862122</td>\n      <td>198.000000</td>\n      <td>0.000000</td>\n    </tr>\n    <tr>\n      <th>2150</th>\n      <td>2150</td>\n      <td>3349</td>\n      <td>horse</td>\n      <td>0.474786</td>\n      <td>897.951660</td>\n      <td>152.409775</td>\n      <td>942.885010</td>\n      <td>209.423508</td>\n      <td>horse</td>\n      <td>0.5</td>\n      <td>905.000000</td>\n      <td>937.000000</td>\n      <td>152.409775</td>\n      <td>202.000000</td>\n      <td>0.626501</td>\n    </tr>\n    <tr>\n      <th>2166</th>\n      <td>2166</td>\n      <td>3365</td>\n      <td>lemon</td>\n      <td>0.410297</td>\n      <td>1553.046631</td>\n      <td>843.591553</td>\n      <td>1710.319336</td>\n      <td>917.946411</td>\n      <td>tiger</td>\n      <td>0.5</td>\n      <td>1553.046631</td>\n      <td>887.000000</td>\n      <td>843.591553</td>\n      <td>385.000000</td>\n      <td>0.000000</td>\n    </tr>\n    <tr>\n      <th>2174</th>\n      <td>2174</td>\n      <td>3373</td>\n      <td>lemon</td>\n      <td>0.252171</td>\n      <td>1535.076660</td>\n      <td>842.257568</td>\n      <td>1722.895752</td>\n      <td>921.577881</td>\n      <td>alien</td>\n      <td>0.5</td>\n      <td>1535.076660</td>\n      <td>933.000000</td>\n      <td>842.257568</td>\n      <td>423.000000</td>\n      <td>0.000000</td>\n    </tr>\n  </tbody>\n</table>\n</div>"
     },
     "metadata": {},
     "execution_count": 29
    }
   ],
   "source": [
    "df_fn"
   ]
  },
  {
   "source": [
    "Let's count the number of rows we will be considering for the confusion matrix."
   ],
   "cell_type": "markdown",
   "metadata": {}
  },
  {
   "cell_type": "code",
   "execution_count": 30,
   "metadata": {},
   "outputs": [],
   "source": [
    "df_anlsys = pd.concat([ df_tp, df_fp, df_fn]).drop_duplicates()"
   ]
  },
  {
   "cell_type": "code",
   "execution_count": 31,
   "metadata": {},
   "outputs": [
    {
     "output_type": "execute_result",
     "data": {
      "text/plain": [
       "      Record  Image Frame ID  Label     Score           x1          y1  \\\n",
       "15        15              16  alien  0.982272   937.451111  229.972229   \n",
       "23        23              24  alien  0.998562   968.756775  207.904373   \n",
       "25        25              26  alien  0.996078   983.659546  199.735611   \n",
       "26        26              27  alien  0.995432   993.389587  202.199905   \n",
       "27        27              28  alien  0.989907   987.749268  196.522629   \n",
       "...      ...             ...    ...       ...          ...         ...   \n",
       "2148    2148            3347  lemon  0.366233  1555.308105  842.318237   \n",
       "2149    2149            3348  lemon  0.262943  1553.600586  841.862122   \n",
       "2150    2150            3349  horse  0.474786   897.951660  152.409775   \n",
       "2166    2166            3365  lemon  0.410297  1553.046631  843.591553   \n",
       "2174    2174            3373  lemon  0.252171  1535.076660  842.257568   \n",
       "\n",
       "               x2          y2 GT Label  Threshold         GTx1         GTx2  \\\n",
       "15     979.905701  295.798462    alien        0.5   951.000000   978.000000   \n",
       "23    1030.661133  271.755310    alien        0.5   989.000000  1030.661133   \n",
       "25    1052.969971  255.341904    alien        0.5  1005.000000  1049.000000   \n",
       "26    1059.060181  255.577408    alien        0.5  1007.000000  1053.000000   \n",
       "27    1058.528076  261.822266    alien        0.5  1005.000000  1051.000000   \n",
       "...           ...         ...      ...        ...          ...          ...   \n",
       "2148  1706.568359  916.627197    horse        0.5  1555.308105   945.000000   \n",
       "2149  1706.049316  915.551819    horse        0.5  1553.600586   941.000000   \n",
       "2150   942.885010  209.423508    horse        0.5   905.000000   937.000000   \n",
       "2166  1710.319336  917.946411    tiger        0.5  1553.046631   887.000000   \n",
       "2174  1722.895752  921.577881    alien        0.5  1535.076660   933.000000   \n",
       "\n",
       "            GTy1        GTy2       IoU  \n",
       "15    240.000000  295.798462  0.547661  \n",
       "23    221.000000  271.755310  0.541241  \n",
       "25    208.000000  255.341904  0.546578  \n",
       "26    202.199905  251.000000  0.645616  \n",
       "27    199.000000  255.000000  0.562944  \n",
       "...          ...         ...       ...  \n",
       "2148  842.318237  193.000000  0.000000  \n",
       "2149  841.862122  198.000000  0.000000  \n",
       "2150  152.409775  202.000000  0.626501  \n",
       "2166  843.591553  385.000000  0.000000  \n",
       "2174  842.257568  423.000000  0.000000  \n",
       "\n",
       "[1159 rows x 15 columns]"
      ],
      "text/html": "<div>\n<style scoped>\n    .dataframe tbody tr th:only-of-type {\n        vertical-align: middle;\n    }\n\n    .dataframe tbody tr th {\n        vertical-align: top;\n    }\n\n    .dataframe thead th {\n        text-align: right;\n    }\n</style>\n<table border=\"1\" class=\"dataframe\">\n  <thead>\n    <tr style=\"text-align: right;\">\n      <th></th>\n      <th>Record</th>\n      <th>Image Frame ID</th>\n      <th>Label</th>\n      <th>Score</th>\n      <th>x1</th>\n      <th>y1</th>\n      <th>x2</th>\n      <th>y2</th>\n      <th>GT Label</th>\n      <th>Threshold</th>\n      <th>GTx1</th>\n      <th>GTx2</th>\n      <th>GTy1</th>\n      <th>GTy2</th>\n      <th>IoU</th>\n    </tr>\n  </thead>\n  <tbody>\n    <tr>\n      <th>15</th>\n      <td>15</td>\n      <td>16</td>\n      <td>alien</td>\n      <td>0.982272</td>\n      <td>937.451111</td>\n      <td>229.972229</td>\n      <td>979.905701</td>\n      <td>295.798462</td>\n      <td>alien</td>\n      <td>0.5</td>\n      <td>951.000000</td>\n      <td>978.000000</td>\n      <td>240.000000</td>\n      <td>295.798462</td>\n      <td>0.547661</td>\n    </tr>\n    <tr>\n      <th>23</th>\n      <td>23</td>\n      <td>24</td>\n      <td>alien</td>\n      <td>0.998562</td>\n      <td>968.756775</td>\n      <td>207.904373</td>\n      <td>1030.661133</td>\n      <td>271.755310</td>\n      <td>alien</td>\n      <td>0.5</td>\n      <td>989.000000</td>\n      <td>1030.661133</td>\n      <td>221.000000</td>\n      <td>271.755310</td>\n      <td>0.541241</td>\n    </tr>\n    <tr>\n      <th>25</th>\n      <td>25</td>\n      <td>26</td>\n      <td>alien</td>\n      <td>0.996078</td>\n      <td>983.659546</td>\n      <td>199.735611</td>\n      <td>1052.969971</td>\n      <td>255.341904</td>\n      <td>alien</td>\n      <td>0.5</td>\n      <td>1005.000000</td>\n      <td>1049.000000</td>\n      <td>208.000000</td>\n      <td>255.341904</td>\n      <td>0.546578</td>\n    </tr>\n    <tr>\n      <th>26</th>\n      <td>26</td>\n      <td>27</td>\n      <td>alien</td>\n      <td>0.995432</td>\n      <td>993.389587</td>\n      <td>202.199905</td>\n      <td>1059.060181</td>\n      <td>255.577408</td>\n      <td>alien</td>\n      <td>0.5</td>\n      <td>1007.000000</td>\n      <td>1053.000000</td>\n      <td>202.199905</td>\n      <td>251.000000</td>\n      <td>0.645616</td>\n    </tr>\n    <tr>\n      <th>27</th>\n      <td>27</td>\n      <td>28</td>\n      <td>alien</td>\n      <td>0.989907</td>\n      <td>987.749268</td>\n      <td>196.522629</td>\n      <td>1058.528076</td>\n      <td>261.822266</td>\n      <td>alien</td>\n      <td>0.5</td>\n      <td>1005.000000</td>\n      <td>1051.000000</td>\n      <td>199.000000</td>\n      <td>255.000000</td>\n      <td>0.562944</td>\n    </tr>\n    <tr>\n      <th>...</th>\n      <td>...</td>\n      <td>...</td>\n      <td>...</td>\n      <td>...</td>\n      <td>...</td>\n      <td>...</td>\n      <td>...</td>\n      <td>...</td>\n      <td>...</td>\n      <td>...</td>\n      <td>...</td>\n      <td>...</td>\n      <td>...</td>\n      <td>...</td>\n      <td>...</td>\n    </tr>\n    <tr>\n      <th>2148</th>\n      <td>2148</td>\n      <td>3347</td>\n      <td>lemon</td>\n      <td>0.366233</td>\n      <td>1555.308105</td>\n      <td>842.318237</td>\n      <td>1706.568359</td>\n      <td>916.627197</td>\n      <td>horse</td>\n      <td>0.5</td>\n      <td>1555.308105</td>\n      <td>945.000000</td>\n      <td>842.318237</td>\n      <td>193.000000</td>\n      <td>0.000000</td>\n    </tr>\n    <tr>\n      <th>2149</th>\n      <td>2149</td>\n      <td>3348</td>\n      <td>lemon</td>\n      <td>0.262943</td>\n      <td>1553.600586</td>\n      <td>841.862122</td>\n      <td>1706.049316</td>\n      <td>915.551819</td>\n      <td>horse</td>\n      <td>0.5</td>\n      <td>1553.600586</td>\n      <td>941.000000</td>\n      <td>841.862122</td>\n      <td>198.000000</td>\n      <td>0.000000</td>\n    </tr>\n    <tr>\n      <th>2150</th>\n      <td>2150</td>\n      <td>3349</td>\n      <td>horse</td>\n      <td>0.474786</td>\n      <td>897.951660</td>\n      <td>152.409775</td>\n      <td>942.885010</td>\n      <td>209.423508</td>\n      <td>horse</td>\n      <td>0.5</td>\n      <td>905.000000</td>\n      <td>937.000000</td>\n      <td>152.409775</td>\n      <td>202.000000</td>\n      <td>0.626501</td>\n    </tr>\n    <tr>\n      <th>2166</th>\n      <td>2166</td>\n      <td>3365</td>\n      <td>lemon</td>\n      <td>0.410297</td>\n      <td>1553.046631</td>\n      <td>843.591553</td>\n      <td>1710.319336</td>\n      <td>917.946411</td>\n      <td>tiger</td>\n      <td>0.5</td>\n      <td>1553.046631</td>\n      <td>887.000000</td>\n      <td>843.591553</td>\n      <td>385.000000</td>\n      <td>0.000000</td>\n    </tr>\n    <tr>\n      <th>2174</th>\n      <td>2174</td>\n      <td>3373</td>\n      <td>lemon</td>\n      <td>0.252171</td>\n      <td>1535.076660</td>\n      <td>842.257568</td>\n      <td>1722.895752</td>\n      <td>921.577881</td>\n      <td>alien</td>\n      <td>0.5</td>\n      <td>1535.076660</td>\n      <td>933.000000</td>\n      <td>842.257568</td>\n      <td>423.000000</td>\n      <td>0.000000</td>\n    </tr>\n  </tbody>\n</table>\n<p>1159 rows × 15 columns</p>\n</div>"
     },
     "metadata": {},
     "execution_count": 31
    }
   ],
   "source": [
    "df_anlsys"
   ]
  },
  {
   "cell_type": "code",
   "execution_count": 26,
   "metadata": {},
   "outputs": [
    {
     "output_type": "error",
     "ename": "NameError",
     "evalue": "name 'df_anlsys' is not defined",
     "traceback": [
      "\u001b[0;31m---------------------------------------------------------------------------\u001b[0m",
      "\u001b[0;31mNameError\u001b[0m                                 Traceback (most recent call last)",
      "\u001b[0;32m<ipython-input-26-4bdb67fbe20d>\u001b[0m in \u001b[0;36m<module>\u001b[0;34m\u001b[0m\n\u001b[0;32m----> 1\u001b[0;31m \u001b[0mdf\u001b[0m\u001b[0;34m.\u001b[0m\u001b[0mloc\u001b[0m\u001b[0;34m[\u001b[0m\u001b[0;34m~\u001b[0m\u001b[0mdf_anlsys\u001b[0m\u001b[0;34m.\u001b[0m\u001b[0mindex\u001b[0m\u001b[0;34m.\u001b[0m\u001b[0misin\u001b[0m\u001b[0;34m(\u001b[0m\u001b[0mdf\u001b[0m\u001b[0;34m.\u001b[0m\u001b[0mindex\u001b[0m\u001b[0;34m)\u001b[0m\u001b[0;34m]\u001b[0m\u001b[0;34m\u001b[0m\u001b[0;34m\u001b[0m\u001b[0m\n\u001b[0m",
      "\u001b[0;31mNameError\u001b[0m: name 'df_anlsys' is not defined"
     ]
    }
   ],
   "source": [
    "df.loc[~df_anlsys.index.isin(df.index)]"
   ]
  },
  {
   "cell_type": "code",
   "execution_count": 37,
   "metadata": {},
   "outputs": [
    {
     "output_type": "execute_result",
     "data": {
      "text/plain": [
       "      Record  Image Frame ID     Label     Score           x1          y1  \\\n",
       "8          8               9     alien  0.975545   907.360291  234.062027   \n",
       "12        12              13     alien  0.951528   909.413330  233.492355   \n",
       "16        16              17     alien  0.971789   940.397339  227.018951   \n",
       "17        17              18     alien  0.981147   940.493591  230.374313   \n",
       "18        18              19     alien  0.977869   945.236572  231.925201   \n",
       "...      ...             ...       ...       ...          ...         ...   \n",
       "3259    3259            8443     lemon  0.358968  1577.975098   96.424683   \n",
       "3260    3260            8503      moon  0.678795  1605.961060   95.251701   \n",
       "3261    3261            8601  baseball  0.343997   421.312561  286.117523   \n",
       "3262    3262            8603  baseball  0.634486   428.349915  289.275024   \n",
       "3263    3263            8605  baseball  0.161124   440.533875  288.187256   \n",
       "\n",
       "               x2          y2 GT Label  Threshold   GTx1        GTx2   GTy1  \\\n",
       "8      952.001404  307.278168    tiger        0.5  926.0  952.001404  241.0   \n",
       "12     954.278076  302.563202    tiger        0.5  929.0  954.278076  243.0   \n",
       "16     987.596802  294.305023    alien        0.5  959.0  987.000000  239.0   \n",
       "17     992.547180  301.391785    alien        0.5  963.0  992.547180  240.0   \n",
       "18     995.897949  301.559418    alien        0.5  972.0  995.897949  239.0   \n",
       "...           ...         ...      ...        ...    ...         ...    ...   \n",
       "3259  1757.348877  166.386780      NaN        0.5    0.0    0.000000    0.0   \n",
       "3260  1704.947144  233.457184      NaN        0.5    0.0    0.000000    0.0   \n",
       "3261   545.831970  364.599823      NaN        0.5    0.0    0.000000    0.0   \n",
       "3262   576.359192  383.126831      NaN        0.5    0.0    0.000000    0.0   \n",
       "3263   578.560730  369.259460      NaN        0.5    0.0    0.000000    0.0   \n",
       "\n",
       "            GTy2       IoU  \n",
       "8     301.000000  0.486252  \n",
       "12    302.563202  0.495206  \n",
       "16    294.305023  0.496102  \n",
       "17    295.000000  0.447720  \n",
       "18    294.000000  0.382094  \n",
       "...          ...       ...  \n",
       "3259    0.000000  0.000000  \n",
       "3260    0.000000  0.000000  \n",
       "3261    0.000000  0.000000  \n",
       "3262    0.000000  0.000000  \n",
       "3263    0.000000  0.000000  \n",
       "\n",
       "[2105 rows x 15 columns]"
      ],
      "text/html": "<div>\n<style scoped>\n    .dataframe tbody tr th:only-of-type {\n        vertical-align: middle;\n    }\n\n    .dataframe tbody tr th {\n        vertical-align: top;\n    }\n\n    .dataframe thead th {\n        text-align: right;\n    }\n</style>\n<table border=\"1\" class=\"dataframe\">\n  <thead>\n    <tr style=\"text-align: right;\">\n      <th></th>\n      <th>Record</th>\n      <th>Image Frame ID</th>\n      <th>Label</th>\n      <th>Score</th>\n      <th>x1</th>\n      <th>y1</th>\n      <th>x2</th>\n      <th>y2</th>\n      <th>GT Label</th>\n      <th>Threshold</th>\n      <th>GTx1</th>\n      <th>GTx2</th>\n      <th>GTy1</th>\n      <th>GTy2</th>\n      <th>IoU</th>\n    </tr>\n  </thead>\n  <tbody>\n    <tr>\n      <th>8</th>\n      <td>8</td>\n      <td>9</td>\n      <td>alien</td>\n      <td>0.975545</td>\n      <td>907.360291</td>\n      <td>234.062027</td>\n      <td>952.001404</td>\n      <td>307.278168</td>\n      <td>tiger</td>\n      <td>0.5</td>\n      <td>926.0</td>\n      <td>952.001404</td>\n      <td>241.0</td>\n      <td>301.000000</td>\n      <td>0.486252</td>\n    </tr>\n    <tr>\n      <th>12</th>\n      <td>12</td>\n      <td>13</td>\n      <td>alien</td>\n      <td>0.951528</td>\n      <td>909.413330</td>\n      <td>233.492355</td>\n      <td>954.278076</td>\n      <td>302.563202</td>\n      <td>tiger</td>\n      <td>0.5</td>\n      <td>929.0</td>\n      <td>954.278076</td>\n      <td>243.0</td>\n      <td>302.563202</td>\n      <td>0.495206</td>\n    </tr>\n    <tr>\n      <th>16</th>\n      <td>16</td>\n      <td>17</td>\n      <td>alien</td>\n      <td>0.971789</td>\n      <td>940.397339</td>\n      <td>227.018951</td>\n      <td>987.596802</td>\n      <td>294.305023</td>\n      <td>alien</td>\n      <td>0.5</td>\n      <td>959.0</td>\n      <td>987.000000</td>\n      <td>239.0</td>\n      <td>294.305023</td>\n      <td>0.496102</td>\n    </tr>\n    <tr>\n      <th>17</th>\n      <td>17</td>\n      <td>18</td>\n      <td>alien</td>\n      <td>0.981147</td>\n      <td>940.493591</td>\n      <td>230.374313</td>\n      <td>992.547180</td>\n      <td>301.391785</td>\n      <td>alien</td>\n      <td>0.5</td>\n      <td>963.0</td>\n      <td>992.547180</td>\n      <td>240.0</td>\n      <td>295.000000</td>\n      <td>0.447720</td>\n    </tr>\n    <tr>\n      <th>18</th>\n      <td>18</td>\n      <td>19</td>\n      <td>alien</td>\n      <td>0.977869</td>\n      <td>945.236572</td>\n      <td>231.925201</td>\n      <td>995.897949</td>\n      <td>301.559418</td>\n      <td>alien</td>\n      <td>0.5</td>\n      <td>972.0</td>\n      <td>995.897949</td>\n      <td>239.0</td>\n      <td>294.000000</td>\n      <td>0.382094</td>\n    </tr>\n    <tr>\n      <th>...</th>\n      <td>...</td>\n      <td>...</td>\n      <td>...</td>\n      <td>...</td>\n      <td>...</td>\n      <td>...</td>\n      <td>...</td>\n      <td>...</td>\n      <td>...</td>\n      <td>...</td>\n      <td>...</td>\n      <td>...</td>\n      <td>...</td>\n      <td>...</td>\n      <td>...</td>\n    </tr>\n    <tr>\n      <th>3259</th>\n      <td>3259</td>\n      <td>8443</td>\n      <td>lemon</td>\n      <td>0.358968</td>\n      <td>1577.975098</td>\n      <td>96.424683</td>\n      <td>1757.348877</td>\n      <td>166.386780</td>\n      <td>NaN</td>\n      <td>0.5</td>\n      <td>0.0</td>\n      <td>0.000000</td>\n      <td>0.0</td>\n      <td>0.000000</td>\n      <td>0.000000</td>\n    </tr>\n    <tr>\n      <th>3260</th>\n      <td>3260</td>\n      <td>8503</td>\n      <td>moon</td>\n      <td>0.678795</td>\n      <td>1605.961060</td>\n      <td>95.251701</td>\n      <td>1704.947144</td>\n      <td>233.457184</td>\n      <td>NaN</td>\n      <td>0.5</td>\n      <td>0.0</td>\n      <td>0.000000</td>\n      <td>0.0</td>\n      <td>0.000000</td>\n      <td>0.000000</td>\n    </tr>\n    <tr>\n      <th>3261</th>\n      <td>3261</td>\n      <td>8601</td>\n      <td>baseball</td>\n      <td>0.343997</td>\n      <td>421.312561</td>\n      <td>286.117523</td>\n      <td>545.831970</td>\n      <td>364.599823</td>\n      <td>NaN</td>\n      <td>0.5</td>\n      <td>0.0</td>\n      <td>0.000000</td>\n      <td>0.0</td>\n      <td>0.000000</td>\n      <td>0.000000</td>\n    </tr>\n    <tr>\n      <th>3262</th>\n      <td>3262</td>\n      <td>8603</td>\n      <td>baseball</td>\n      <td>0.634486</td>\n      <td>428.349915</td>\n      <td>289.275024</td>\n      <td>576.359192</td>\n      <td>383.126831</td>\n      <td>NaN</td>\n      <td>0.5</td>\n      <td>0.0</td>\n      <td>0.000000</td>\n      <td>0.0</td>\n      <td>0.000000</td>\n      <td>0.000000</td>\n    </tr>\n    <tr>\n      <th>3263</th>\n      <td>3263</td>\n      <td>8605</td>\n      <td>baseball</td>\n      <td>0.161124</td>\n      <td>440.533875</td>\n      <td>288.187256</td>\n      <td>578.560730</td>\n      <td>369.259460</td>\n      <td>NaN</td>\n      <td>0.5</td>\n      <td>0.0</td>\n      <td>0.000000</td>\n      <td>0.0</td>\n      <td>0.000000</td>\n      <td>0.000000</td>\n    </tr>\n  </tbody>\n</table>\n<p>2105 rows × 15 columns</p>\n</div>"
     },
     "metadata": {},
     "execution_count": 37
    }
   ],
   "source": [
    "df.loc[~df.index.isin(df_anlsys.index)] # rows that are in "
   ]
  },
  {
   "cell_type": "code",
   "execution_count": null,
   "metadata": {},
   "outputs": [],
   "source": []
  }
 ]
}